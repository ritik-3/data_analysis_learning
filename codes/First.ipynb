{
 "cells": [
  {
   "cell_type": "code",
   "execution_count": 1,
   "id": "323d496e",
   "metadata": {},
   "outputs": [
    {
     "name": "stdout",
     "output_type": "stream",
     "text": [
      "Hello World\n"
     ]
    }
   ],
   "source": [
    "print(\"Hello World\")"
   ]
  },
  {
   "cell_type": "code",
   "execution_count": 4,
   "id": "c40abe77",
   "metadata": {},
   "outputs": [
    {
     "name": "stdout",
     "output_type": "stream",
     "text": [
      "Enter year: 2343\n",
      "2343 is not a leap year.\n"
     ]
    }
   ],
   "source": [
    "year = int(input(\"Enter year: \"))\n",
    "\n",
    "if year % 4 == 0 and year % 100 != 0 or year % 400 == 0:\n",
    "    print(year, \"is a leap year\")\n",
    "else:\n",
    "    print(year, \"is not a leap year.\")"
   ]
  },
  {
   "cell_type": "code",
   "execution_count": 5,
   "id": "bc47830b",
   "metadata": {},
   "outputs": [
    {
     "name": "stdout",
     "output_type": "stream",
     "text": [
      "Which year do you want to check? 1900\n",
      "Not Leap Year\n"
     ]
    }
   ],
   "source": [
    "year = int(input(\"Which year do you want to check? \"))\n",
    "\n",
    "if year % 4 == 0:\n",
    "    if year % 100 == 0:\n",
    "        if year % 400 == 0:\n",
    "            print(\"Leap Year\")\n",
    "        else:\n",
    "            print(\"Not Leap Year\")\n",
    "    else:\n",
    "        print(\"Leap year\")\n",
    "else:\n",
    "\n",
    "    print(\"Not Leap Year\")"
   ]
  },
  {
   "cell_type": "markdown",
   "id": "8f7b098b",
   "metadata": {},
   "source": []
  },
  {
   "cell_type": "code",
   "execution_count": 13,
   "id": "d0aadbab",
   "metadata": {},
   "outputs": [
    {
     "name": "stdout",
     "output_type": "stream",
     "text": [
      "Enter your mark for Subject 1: 86\n",
      "Enter your mark for Subject 2: 90\n",
      "Enter your mark for Subject 3: 99\n",
      "Enter your mark for Subject 4: 95\n",
      "Enter your mark for Subject 5: 97\n",
      "467 is your total marks.\n",
      "93.4 % is your percentage\n",
      "You have got A grade.\n"
     ]
    }
   ],
   "source": [
    "sub1 = int(input(\"Enter your mark for Subject 1: \"))\n",
    "sub2 = int(input(\"Enter your mark for Subject 2: \"))\n",
    "sub3 = int(input(\"Enter your mark for Subject 3: \"))\n",
    "sub4 = int(input(\"Enter your mark for Subject 4: \"))\n",
    "sub5 = int(input(\"Enter your mark for Subject 5: \"))\n",
    "\n",
    "total_marks = sub1+sub2+sub3+sub4+sub5\n",
    "\n",
    "percentage = total_marks/5\n",
    "\n",
    "print(total_marks, \"is your total marks.\")\n",
    "\n",
    "print(percentage, \"% is your percentage\")\n",
    "\n",
    "if percentage>=70:\n",
    "    print(\"You have got A grade.\")\n",
    "elif percentage>=45:\n",
    "    print(\"Your have got B grade.\")\n",
    "elif percentage>=33:\n",
    "    print(\"you have got C grade.\")\n",
    "else:\n",
    "    print(\"Sorry! You failed the exam.\")\n",
    "\n",
    "\n"
   ]
  },
  {
   "cell_type": "code",
   "execution_count": 12,
   "id": "77753f5c",
   "metadata": {},
   "outputs": [
    {
     "name": "stdout",
     "output_type": "stream",
     "text": [
      "1 2 3 4 5 6 7 8 9 10  \n",
      "0 2 4 6 8 10 "
     ]
    }
   ],
   "source": [
    "n=10\n",
    "\n",
    "for i in range(1,n+1):\n",
    "    print(i, end=\" \")\n",
    "\n",
    "print(\" \")\n",
    "    \n",
    "for i in range(0,n+1,+2):\n",
    "    print(i, end=\" \")\n",
    "    \n"
   ]
  },
  {
   "cell_type": "code",
   "execution_count": 11,
   "id": "9c495979",
   "metadata": {},
   "outputs": [
    {
     "name": "stdout",
     "output_type": "stream",
     "text": [
      "25\n"
     ]
    }
   ],
   "source": [
    "n=10\n",
    "sum=0\n",
    "for i in range(1,n+1,):\n",
    "    if i%2!=0:\n",
    "        sum=sum+i\n",
    "print(sum)"
   ]
  },
  {
   "cell_type": "markdown",
   "id": "ce875b57",
   "metadata": {},
   "source": []
  },
  {
   "cell_type": "code",
   "execution_count": 14,
   "id": "3cbdf7cb",
   "metadata": {},
   "outputs": [
    {
     "name": "stdout",
     "output_type": "stream",
     "text": [
      "Enter the number: ghdg\n",
      "4\n"
     ]
    }
   ],
   "source": [
    "n=input(\"Enter the number: \")\n",
    "count=0\n",
    "for i in str(n):\n",
    "    count = count+1\n",
    "    \n",
    "print(count)"
   ]
  },
  {
   "cell_type": "code",
   "execution_count": 16,
   "id": "fec7e2fe",
   "metadata": {},
   "outputs": [
    {
     "name": "stdout",
     "output_type": "stream",
     "text": [
      "Enter word: 1234\n",
      "4\n"
     ]
    }
   ],
   "source": [
    "n=input(\"Enter word: \")\n",
    "print(len(n))"
   ]
  },
  {
   "cell_type": "code",
   "execution_count": 33,
   "id": "5a7cfdf6",
   "metadata": {},
   "outputs": [
    {
     "name": "stdout",
     "output_type": "stream",
     "text": [
      "Enter the word: hold\n",
      "Revers of the given string is:  dloh\n"
     ]
    }
   ],
   "source": [
    "n=input(\"Enter the word: \")\n",
    "new=\"\"\n",
    "\n",
    "for i in n:\n",
    "    new=i + new\n",
    "    \n",
    "print(\"Revers of the given string is: \",new)"
   ]
  },
  {
   "cell_type": "code",
   "execution_count": 35,
   "id": "43f51ee1",
   "metadata": {},
   "outputs": [
    {
     "name": "stdout",
     "output_type": "stream",
     "text": [
      "Enter the number: 5\n",
      "Factorial of the 5 is 120\n"
     ]
    }
   ],
   "source": [
    "num=int(input(\"Enter the number: \"))\n",
    "fact=1\n",
    "\n",
    "for i in range(1,num+1):\n",
    "    fact=fact*i\n",
    "    \n",
    "print(\"Factorial of the\", num, \"is\" ,fact)"
   ]
  },
  {
   "cell_type": "code",
   "execution_count": null,
   "id": "25d61024",
   "metadata": {},
   "outputs": [],
   "source": [
    "num=int(input(\"Enter the number: \"))\n",
    "if num==2:\n",
    "    print(num, \"is a prime.\")\n",
    "elif num==1:\n",
    "    print(num,\" is not a prime number.\")\n",
    "\n",
    "for i in range(2,num):\n",
    "    if num%i==0:\n",
    "        print(\"not a Prime\")\n",
    "        break;\n",
    "        \n",
    "    else:\n",
    "        print(num, \"is prime.\")\n",
    "        break;"
   ]
  },
  {
   "cell_type": "code",
   "execution_count": 8,
   "id": "6c3c7b12",
   "metadata": {},
   "outputs": [
    {
     "name": "stdout",
     "output_type": "stream",
     "text": [
      "year2013\n",
      "not leap\n"
     ]
    }
   ],
   "source": [
    "year = int(input(\"year\"))\n",
    "\n",
    "if year%4==0 and year%100!=0:\n",
    "    print(\"Leap\")\n",
    "    \n",
    "elif year%400==0:\n",
    "    print(\"leap\")\n",
    "\n",
    "else:\n",
    "    print(\"not leap\")"
   ]
  },
  {
   "cell_type": "code",
   "execution_count": 14,
   "id": "aa543cb7",
   "metadata": {},
   "outputs": [
    {
     "name": "stdout",
     "output_type": "stream",
     "text": [
      "amount1200\n",
      "1080.0\n"
     ]
    }
   ],
   "source": [
    "pa=int(input(\"amount\"))\n",
    "discount = 0\n",
    "if pa>1000:\n",
    "    discount = pa/10\n",
    "\n",
    "else:\n",
    "    discount = pa/5\n",
    "    \n",
    "amount = pa - discount\n",
    "\n",
    "print(amount)"
   ]
  },
  {
   "cell_type": "code",
   "execution_count": 15,
   "id": "20b861da",
   "metadata": {},
   "outputs": [
    {
     "name": "stdout",
     "output_type": "stream",
     "text": [
      "[5, 2, 3]\n"
     ]
    }
   ],
   "source": [
    "a =[1,2,3]\n",
    "b= a\n",
    "b[0]=5\n",
    "print(a)"
   ]
  },
  {
   "cell_type": "code",
   "execution_count": 14,
   "id": "aaa3d4ef",
   "metadata": {},
   "outputs": [
    {
     "name": "stdout",
     "output_type": "stream",
     "text": [
      "Vovels are:- 8\n",
      "spaces are:- 3\n"
     ]
    }
   ],
   "source": [
    "text = \"welcome to cybrom technology\"\n",
    "\n",
    "a=(text.count(\"a\"))\n",
    "e=(text.count(\"e\"))\n",
    "i=(text.count(\"i\"))\n",
    "o=(text.count(\"o\"))\n",
    "u=(text.count(\"u\"))\n",
    "s=(text.count(\" \"))\n",
    "print(\"Vovels are:-\", a+e+i+o+u)\n",
    "print(\"spaces are:-\",s)"
   ]
  },
  {
   "cell_type": "code",
   "execution_count": 12,
   "id": "77eeaec4",
   "metadata": {},
   "outputs": [
    {
     "name": "stdout",
     "output_type": "stream",
     "text": [
      "vovels are:- 8\n",
      "Conconents are:- 17\n",
      "Space are:- 3\n"
     ]
    }
   ],
   "source": [
    "text = \"welcome to cybrom technology\"\n",
    "c_c=0\n",
    "c_v=0\n",
    "c_s=0\n",
    "for i in text:\n",
    "    if i in \"aeiou\":\n",
    "        c_v+=1\n",
    "    elif i==\" \":\n",
    "        c_s+=1\n",
    "    else:\n",
    "        c_c+=1\n",
    "print(\"vovels are:-\", c_v)\n",
    "print(\"Conconents are:-\", c_c)\n",
    "print(\"Space are:-\", c_s)\n"
   ]
  },
  {
   "cell_type": "code",
   "execution_count": 21,
   "id": "ea331bc0",
   "metadata": {},
   "outputs": [
    {
     "name": "stdout",
     "output_type": "stream",
     "text": [
      "Enter the number: 7\n",
      "7 is a prime number.\n"
     ]
    }
   ],
   "source": [
    "num=int(input(\"Enter the number: \"))\n",
    "if num==2:\n",
    "    print(num, \"is a prime.\")\n",
    "elif num==1 or num==0:\n",
    "    print(num,\" is not a prime number.\")\n",
    "\n",
    "elif num>1:\n",
    "    for i in range(2,num):\n",
    "        if num%i==0:\n",
    "            print(num,\"is not a Prime number.\")\n",
    "            break;\n",
    "        else:\n",
    "            print(num, \"is a prime number.\")\n",
    "            break;\n",
    "elif num<0:\n",
    "    print(\"Enter positive Number\")\n",
    "else:\n",
    "    print(\"Invalid input\")"
   ]
  },
  {
   "cell_type": "code",
   "execution_count": null,
   "id": "c791345c",
   "metadata": {},
   "outputs": [],
   "source": []
  }
 ],
 "metadata": {
  "kernelspec": {
   "display_name": "Python 3 (ipykernel)",
   "language": "python",
   "name": "python3"
  },
  "language_info": {
   "codemirror_mode": {
    "name": "ipython",
    "version": 3
   },
   "file_extension": ".py",
   "mimetype": "text/x-python",
   "name": "python",
   "nbconvert_exporter": "python",
   "pygments_lexer": "ipython3",
   "version": "3.11.5"
  }
 },
 "nbformat": 4,
 "nbformat_minor": 5
}
