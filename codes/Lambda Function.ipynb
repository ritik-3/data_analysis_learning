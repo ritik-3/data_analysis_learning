{
 "cells": [
  {
   "cell_type": "markdown",
   "id": "326525a7",
   "metadata": {},
   "source": [
    "# Lambda function \n",
    "\n",
    "__> a lambda fun is a small anonymous function.\n",
    "\n",
    "__> A lambda function can take any number of argument but can only have one expression.\n",
    "\n",
    "__> Lambda argument : expression."
   ]
  },
  {
   "cell_type": "code",
   "execution_count": 2,
   "id": "77afd0ac",
   "metadata": {},
   "outputs": [
    {
     "name": "stdout",
     "output_type": "stream",
     "text": [
      "15\n"
     ]
    }
   ],
   "source": [
    "x= lambda a:a+10\n",
    "print(x(5))"
   ]
  },
  {
   "cell_type": "code",
   "execution_count": 3,
   "id": "52ed8fc1",
   "metadata": {},
   "outputs": [
    {
     "name": "stdout",
     "output_type": "stream",
     "text": [
      "15\n"
     ]
    }
   ],
   "source": [
    "x= lambda a,b:a+b\n",
    "print(x(10,5))"
   ]
  },
  {
   "cell_type": "code",
   "execution_count": 11,
   "id": "56406608",
   "metadata": {},
   "outputs": [
    {
     "name": "stdout",
     "output_type": "stream",
     "text": [
      "110\n"
     ]
    }
   ],
   "source": [
    "def func(n):\n",
    "    return lambda a:a*n\n",
    "\n",
    "x=func(10)\n",
    "print(x(11))\n",
    "\n"
   ]
  },
  {
   "cell_type": "code",
   "execution_count": 21,
   "id": "1c51a387",
   "metadata": {},
   "outputs": [
    {
     "name": "stdout",
     "output_type": "stream",
     "text": [
      "[(1, 1), (2, 16), (3, 81), (4, 256)]\n"
     ]
    }
   ],
   "source": [
    "#\n",
    "l=[1,2,3,4]\n",
    "\n",
    "n=[(i,i**4) for i in l]\n",
    "print(n)"
   ]
  },
  {
   "cell_type": "markdown",
   "id": "5daa20a8",
   "metadata": {},
   "source": [
    "# MAP\n",
    "\n",
    "map(function, iterable)"
   ]
  },
  {
   "cell_type": "code",
   "execution_count": 22,
   "id": "ff361286",
   "metadata": {},
   "outputs": [
    {
     "name": "stdout",
     "output_type": "stream",
     "text": [
      "[(1, 1), (2, 8), (3, 27), (4, 64)]\n"
     ]
    }
   ],
   "source": [
    "l=[1,2,3,4]\n",
    "\n",
    "x=list(map(lambda a:(a,a**3),l))\n",
    "print(x)"
   ]
  },
  {
   "cell_type": "code",
   "execution_count": 40,
   "id": "f5580b93",
   "metadata": {},
   "outputs": [
    {
     "name": "stdout",
     "output_type": "stream",
     "text": [
      "[60, 7, 60]\n"
     ]
    }
   ],
   "source": [
    "l=[[100,20,60],[1,5,7,9],[60,70,50]]\n",
    "\n",
    "x=list(map(lambda a:sorted(a)[-2],l))\n",
    "print(x)"
   ]
  },
  {
   "cell_type": "code",
   "execution_count": 42,
   "id": "5fc0f61f",
   "metadata": {},
   "outputs": [
    {
     "name": "stdout",
     "output_type": "stream",
     "text": [
      "num:-1\n",
      "num:-2\n",
      "2\n"
     ]
    }
   ],
   "source": [
    "a= int(input(\"num:-\"))\n",
    "b= int(input(\"num:-\"))\n",
    "\n",
    "x=lambda a,b: a if a>b else b\n",
    "print(x(a,b))"
   ]
  },
  {
   "cell_type": "code",
   "execution_count": 5,
   "id": "9b872460",
   "metadata": {},
   "outputs": [
    {
     "name": "stdout",
     "output_type": "stream",
     "text": [
      "[2, 16, 216, 4096]\n"
     ]
    }
   ],
   "source": [
    "l1=[2,4,6,8]\n",
    "l2=[1,2,3,4]\n",
    "\n",
    "x=list(map(lambda i,j:i**j,l1,l2))\n",
    "print(x)"
   ]
  },
  {
   "cell_type": "code",
   "execution_count": null,
   "id": "cd5a3fe2",
   "metadata": {},
   "outputs": [],
   "source": []
  }
 ],
 "metadata": {
  "kernelspec": {
   "display_name": "Python 3 (ipykernel)",
   "language": "python",
   "name": "python3"
  },
  "language_info": {
   "codemirror_mode": {
    "name": "ipython",
    "version": 3
   },
   "file_extension": ".py",
   "mimetype": "text/x-python",
   "name": "python",
   "nbconvert_exporter": "python",
   "pygments_lexer": "ipython3",
   "version": "3.11.5"
  }
 },
 "nbformat": 4,
 "nbformat_minor": 5
}
