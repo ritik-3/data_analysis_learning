{
 "cells": [
  {
   "cell_type": "code",
   "execution_count": 13,
   "id": "6e8460da",
   "metadata": {},
   "outputs": [
    {
     "name": "stdout",
     "output_type": "stream",
     "text": [
      "ecm o\n",
      "obCo\n",
      "elcom\n"
     ]
    }
   ],
   "source": [
    "a =\"Welcome to Cybrom\"\n",
    "\n",
    "print(a[1:10:2])\n",
    "print(a[-2:-9:-2])\n",
    "print(a[1:6])"
   ]
  },
  {
   "cell_type": "code",
   "execution_count": 14,
   "id": "a7468a43",
   "metadata": {},
   "outputs": [
    {
     "name": "stdout",
     "output_type": "stream",
     "text": [
      "[0, 2, 4, 6, 8, 10]\n",
      "3\n"
     ]
    }
   ],
   "source": [
    "l=[0,1,2,3,4,5,6,7,8,9,10]\n",
    "\n",
    "print(l[::2])\n",
    "print(l[3])"
   ]
  },
  {
   "cell_type": "code",
   "execution_count": 26,
   "id": "100442aa",
   "metadata": {},
   "outputs": [
    {
     "name": "stdout",
     "output_type": "stream",
     "text": [
      "50\n",
      "hehe\n",
      "[0, 1, ['hehe', 40, 50], 4, 5, 6, 7, 8, 9]\n"
     ]
    }
   ],
   "source": [
    "l=[0,1,2,\"you\",[\"hehe\",40,50],4,5,6,7,8,]\n",
    "print(l[4][2])\n",
    "print(l[4][0])\n",
    "l.append(9)\n",
    "l.pop(2)\n",
    "l.remove(\"you\")\n",
    "print(l)"
   ]
  },
  {
   "cell_type": "code",
   "execution_count": 33,
   "id": "43b4c095",
   "metadata": {},
   "outputs": [
    {
     "name": "stdout",
     "output_type": "stream",
     "text": [
      "0 1 2 3 4 5 6 7 8 9 10 11 12 13 14 15 16 "
     ]
    }
   ],
   "source": [
    "a =\"Welcome to Cybrom\"\n",
    "\n",
    "t=len(a)\n",
    "for i in range(t):\n",
    "    print(i,end=\" \")\n"
   ]
  },
  {
   "cell_type": "code",
   "execution_count": 31,
   "id": "f45d2176",
   "metadata": {},
   "outputs": [
    {
     "name": "stdout",
     "output_type": "stream",
     "text": [
      "Welcome to Cybrom"
     ]
    }
   ],
   "source": [
    "a =\"Welcome to Cybrom\"\n",
    "for i in a:\n",
    "    print(i, end=\"\")"
   ]
  },
  {
   "cell_type": "code",
   "execution_count": 8,
   "id": "447b6c69",
   "metadata": {},
   "outputs": [
    {
     "name": "stdout",
     "output_type": "stream",
     "text": [
      "Welcome to Cybrom\n",
      "morbyC ot emocleW"
     ]
    }
   ],
   "source": [
    "a =\"Welcome to Cybrom\"\n",
    "\n",
    "t=len(a)\n",
    "for i in range(t):\n",
    "    print(a[i],end=\"\")\n",
    "    \n",
    "print()\n",
    "    \n",
    "for i in range(t-1,-1,-1):\n",
    "    print(a[i],end=\"\")\n"
   ]
  },
  {
   "cell_type": "code",
   "execution_count": 15,
   "id": "e51ed440",
   "metadata": {},
   "outputs": [
    {
     "name": "stdout",
     "output_type": "stream",
     "text": [
      "[1, 2]\n"
     ]
    }
   ],
   "source": [
    "l=[1,2,9]\n",
    "target =11\n",
    "for i in range(len(l)):\n",
    "    for j in range(i+1,len(l)):\n",
    "        a=l[i]+l[j]\n",
    "        if a==target:\n",
    "            print([i,j])\n",
    "            "
   ]
  },
  {
   "cell_type": "code",
   "execution_count": null,
   "id": "5d90421a",
   "metadata": {},
   "outputs": [],
   "source": []
  }
 ],
 "metadata": {
  "kernelspec": {
   "display_name": "Python 3 (ipykernel)",
   "language": "python",
   "name": "python3"
  },
  "language_info": {
   "codemirror_mode": {
    "name": "ipython",
    "version": 3
   },
   "file_extension": ".py",
   "mimetype": "text/x-python",
   "name": "python",
   "nbconvert_exporter": "python",
   "pygments_lexer": "ipython3",
   "version": "3.11.5"
  }
 },
 "nbformat": 4,
 "nbformat_minor": 5
}
