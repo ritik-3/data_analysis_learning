{
 "cells": [
  {
   "cell_type": "markdown",
   "id": "ec612adb",
   "metadata": {},
   "source": [
    "# Filter Function\n",
    "\n",
    "syntax: filter(function, sequence)"
   ]
  },
  {
   "cell_type": "code",
   "execution_count": 8,
   "id": "57adba48",
   "metadata": {},
   "outputs": [
    {
     "name": "stdout",
     "output_type": "stream",
     "text": [
      "[18, 24, 32]\n"
     ]
    }
   ],
   "source": [
    "a=[5,12,17,18,24,32]\n",
    "x=list(filter(lambda x:x>=18,a))\n",
    "print(x)"
   ]
  },
  {
   "cell_type": "code",
   "execution_count": 12,
   "id": "d1c7be3f",
   "metadata": {},
   "outputs": [
    {
     "name": "stdout",
     "output_type": "stream",
     "text": [
      "[18, 24, 32]\n"
     ]
    }
   ],
   "source": [
    "def fun():\n",
    "    return list(filter(lambda x:x>=18,a))\n",
    "a=[5,12,17,18,24,32]\n",
    "\n",
    "print(fun())"
   ]
  },
  {
   "cell_type": "code",
   "execution_count": 15,
   "id": "6eafedfd",
   "metadata": {},
   "outputs": [
    {
     "name": "stdout",
     "output_type": "stream",
     "text": [
      "[18, 24, 32]\n"
     ]
    }
   ],
   "source": [
    "a=[5,12,17,18,24,32]\n",
    "\n",
    "def fun(a):\n",
    "    if a>=18:\n",
    "        return a\n",
    "print(list(filter(fun,a)))"
   ]
  },
  {
   "cell_type": "code",
   "execution_count": 17,
   "id": "50fe476c",
   "metadata": {},
   "outputs": [
    {
     "name": "stdout",
     "output_type": "stream",
     "text": [
      "[65, 39, 221]\n"
     ]
    }
   ],
   "source": [
    "l=[12,65,54,39,102,339,221,50,70]\n",
    "\n",
    "x=list(filter(lambda x:x%13==0,l))\n",
    "print(x)"
   ]
  },
  {
   "cell_type": "code",
   "execution_count": 19,
   "id": "b26d8933",
   "metadata": {},
   "outputs": [
    {
     "name": "stdout",
     "output_type": "stream",
     "text": [
      "[65, 39, 221]\n"
     ]
    }
   ],
   "source": [
    "l=[12,65,54,39,102,339,221,50,70]\n",
    "def fun(a):\n",
    "    if a%13==0:\n",
    "        return a\n",
    "print(list(filter(fun,l)))"
   ]
  },
  {
   "cell_type": "code",
   "execution_count": 23,
   "id": "0bf6b543",
   "metadata": {},
   "outputs": [
    {
     "name": "stdout",
     "output_type": "stream",
     "text": [
      "['madam', 'bb', 'nitin']\n"
     ]
    }
   ],
   "source": [
    "l=[\"madam\",\"bb\",\"motor\",\"nitin\",\"cybrom\"]\n",
    "x=list(filter(lambda x:x == \"\".join(reversed(x)),l))\n",
    "print(x)"
   ]
  },
  {
   "cell_type": "code",
   "execution_count": 24,
   "id": "bb330990",
   "metadata": {},
   "outputs": [
    {
     "name": "stdout",
     "output_type": "stream",
     "text": [
      "['madam', 'bb', 'nitin']\n"
     ]
    }
   ],
   "source": [
    "l=[\"madam\",\"bb\",\"motor\",\"nitin\",\"cybrom\"]\n",
    "print(list(filter(lambda x:x==x[::-1],l)))"
   ]
  },
  {
   "cell_type": "code",
   "execution_count": null,
   "id": "6bfca200",
   "metadata": {},
   "outputs": [],
   "source": []
  }
 ],
 "metadata": {
  "kernelspec": {
   "display_name": "Python 3 (ipykernel)",
   "language": "python",
   "name": "python3"
  },
  "language_info": {
   "codemirror_mode": {
    "name": "ipython",
    "version": 3
   },
   "file_extension": ".py",
   "mimetype": "text/x-python",
   "name": "python",
   "nbconvert_exporter": "python",
   "pygments_lexer": "ipython3",
   "version": "3.11.5"
  }
 },
 "nbformat": 4,
 "nbformat_minor": 5
}
