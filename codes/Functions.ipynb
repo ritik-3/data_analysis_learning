{
 "cells": [
  {
   "cell_type": "markdown",
   "id": "5820969e",
   "metadata": {},
   "source": [
    "# Function\n",
    "\n",
    "a block of code ,only runs when its called\n",
    "\n",
    "reuable\n",
    "\n"
   ]
  },
  {
   "cell_type": "code",
   "execution_count": 1,
   "id": "dd6ca665",
   "metadata": {},
   "outputs": [
    {
     "name": "stdout",
     "output_type": "stream",
     "text": [
      "welcom to cybrom\n"
     ]
    }
   ],
   "source": [
    "def funs():\n",
    "    print(\"welcom to cybrom\")\n",
    "funs()"
   ]
  },
  {
   "cell_type": "code",
   "execution_count": 3,
   "id": "44afdbcc",
   "metadata": {},
   "outputs": [
    {
     "name": "stdout",
     "output_type": "stream",
     "text": [
      "num1:- 1\n",
      "num2:- 2\n",
      "3\n"
     ]
    }
   ],
   "source": [
    "def sum(a,b):\n",
    "    c=a+b\n",
    "    print(c)\n",
    "n=int(input(\"num1:- \"))\n",
    "n2=int(input(\"num2:- \"))\n",
    "sum(n,n2)"
   ]
  },
  {
   "cell_type": "code",
   "execution_count": 5,
   "id": "005dc890",
   "metadata": {},
   "outputs": [
    {
     "name": "stdout",
     "output_type": "stream",
     "text": [
      "welcom to cybrom\n",
      "num1:- 1\n",
      "num2:- 23\n",
      "24\n"
     ]
    }
   ],
   "source": [
    "funs()\n",
    "n=int(input(\"num1:- \"))\n",
    "n2=int(input(\"num2:- \"))\n",
    "sum(n,n2)"
   ]
  },
  {
   "cell_type": "code",
   "execution_count": 10,
   "id": "307e82cc",
   "metadata": {},
   "outputs": [
    {
     "name": "stdout",
     "output_type": "stream",
     "text": [
      "num1:- 20\n",
      "num2:- 2\n",
      "multi= 40 decide= 10.0\n"
     ]
    }
   ],
   "source": [
    "def mult(a,b):\n",
    "    c=a*b\n",
    "    d=a/b\n",
    "    print(\"multi=\",c,\"devide=\",d)\n",
    "    \n",
    "    \n",
    "n=int(input(\"num1:- \"))\n",
    "n2=int(input(\"num2:- \"))\n",
    "mult(n,n2)"
   ]
  },
  {
   "cell_type": "code",
   "execution_count": 15,
   "id": "78adf299",
   "metadata": {},
   "outputs": [
    {
     "name": "stdout",
     "output_type": "stream",
     "text": [
      "Enter a number2\n",
      "2 is prime\n"
     ]
    }
   ],
   "source": [
    "num = int(input(\"Enter a number\"))\n",
    "if num > 1:\n",
    "    for i in range(2, int(num/2)+1):\n",
    "        if (num % i) == 0:\n",
    "            print(num, \"not prime\")\n",
    "            break\n",
    "    else:\n",
    "        print(num, \"is prime\")\n",
    "else:\n",
    "    print(num, \"not prime\")"
   ]
  },
  {
   "cell_type": "code",
   "execution_count": 18,
   "id": "282f091d",
   "metadata": {},
   "outputs": [
    {
     "name": "stdout",
     "output_type": "stream",
     "text": [
      "Enter a number101\n",
      "101 is prime\n"
     ]
    }
   ],
   "source": [
    "def is_prime(num):\n",
    "    if num > 1:\n",
    "        for i in range(2, int(num/2)+1):\n",
    "            if (num % i) == 0:\n",
    "                print(num, \"not prime\")\n",
    "                break\n",
    "        else:\n",
    "            print(num, \"is prime\")\n",
    "    else:\n",
    "        print(num, \"not prime\")\n",
    "    \n",
    "num = int(input(\"Enter a number\"))\n",
    "is_prime(num)"
   ]
  },
  {
   "cell_type": "markdown",
   "id": "4d7556d1",
   "metadata": {},
   "source": [
    "HW\n",
    "\n",
    "calculator, \n",
    "\n",
    "armstrong\n",
    "\n",
    "wapf to find the largest amoung three number"
   ]
  },
  {
   "cell_type": "code",
   "execution_count": 25,
   "id": "3c4f7cd6",
   "metadata": {},
   "outputs": [
    {
     "name": "stdout",
     "output_type": "stream",
     "text": [
      "Enter a number: 153\n",
      "is armstrong.\n"
     ]
    }
   ],
   "source": [
    "def arms():\n",
    "    n = int(input(\"Enter a number: \"))\n",
    "    old=n\n",
    "    arm=0\n",
    "    a=len(str(n))\n",
    "    for i in range(a):\n",
    "        dig=n%10\n",
    "        arm=arm+(dig**a)\n",
    "        n=n//10\n",
    "\n",
    "    if old==arm:\n",
    "        return \"is armstrong.\"\n",
    "    else:\n",
    "        return \"is not armstrong.\"\n",
    "print(arms())"
   ]
  },
  {
   "cell_type": "code",
   "execution_count": 15,
   "id": "1f5c5594",
   "metadata": {},
   "outputs": [
    {
     "name": "stdout",
     "output_type": "stream",
     "text": [
      "\n",
      "    ====Calculator=====\n",
      "    Select Choice\n",
      "    1.Add\n",
      "    2.Substract\n",
      "    3.Multiply\n",
      "    4.Divide\n",
      "    5.Exit\n",
      "    \n",
      "Enter Your Choice.5\n",
      "Calculator Exit.\n"
     ]
    }
   ],
   "source": [
    "def add(a,b):\n",
    "    result =a+b\n",
    "    return result\n",
    "def subs(a,b):\n",
    "    result = a-b\n",
    "    return result\n",
    "def multi(a,b):\n",
    "    result= a*b\n",
    "    return result\n",
    "def divide(a,b):\n",
    "    result = a/b\n",
    "    return result\n",
    "is_on=True\n",
    "while is_on:\n",
    "    print('''\n",
    "    ====Calculator=====\n",
    "    Select Choice\n",
    "    1.Add\n",
    "    2.Substract\n",
    "    3.Multiply\n",
    "    4.Divide\n",
    "    5.Exit\n",
    "    ''')\n",
    "    choice = int(input(\"Enter Your Choice.\"))\n",
    "\n",
    "    if choice == 1:\n",
    "        num1 = int(input(\"Enter Number 1:-\"))\n",
    "        num2 = int(input(\"Enter Number 2:-\"))\n",
    "        print(add(num1,num2))\n",
    "\n",
    "\n",
    "    elif choice ==2:\n",
    "        num1 = int(input(\"Enter Number 1:-\"))\n",
    "        num2 = int(input(\"Enter Number 2:-\"))\n",
    "        print(subs(num1,num2))\n",
    "\n",
    "    elif choice == 3:\n",
    "        num1 = int(input(\"Enter Number 1:-\"))\n",
    "        num2 = int(input(\"Enter Number 2:-\"))\n",
    "        print(multi(num1,num2))\n",
    "\n",
    "    elif choice == 4:\n",
    "        num1 = int(input(\"Enter Number 1:-\"))\n",
    "        num2 = int(input(\"Enter Number 2:-\"))\n",
    "        print(divide(num1,num2))\n",
    "    \n",
    "    elif choice ==5:\n",
    "        print(\"Calculator Exit.\")\n",
    "        is_on=False\n",
    "\n",
    "    else:\n",
    "        print(\"invalid input.\")\n"
   ]
  },
  {
   "cell_type": "code",
   "execution_count": 19,
   "id": "f335da12",
   "metadata": {},
   "outputs": [
    {
     "name": "stdout",
     "output_type": "stream",
     "text": [
      "Enter first number:-2\n",
      "Enter second number:- 2\n",
      "Enter third number:- 2\n",
      "unknown error.\n",
      "largest number is:-  None\n"
     ]
    }
   ],
   "source": [
    "def is_largest(a,b,c):\n",
    "    if a>b and a>c:\n",
    "        return a\n",
    "    elif b>a and b>c:\n",
    "        return b\n",
    "    elif c>a and c>b:\n",
    "        return c\n",
    "    else:\n",
    "        print(\"unknown error.\")\n",
    "    \n",
    "\n",
    "num1 = int(input(\"Enter first number:-\"))\n",
    "num2 = int(input(\"Enter second number:- \"))\n",
    "num3 = int(input(\"Enter third number:- \"))\n",
    "\n",
    "\n",
    "largest = is_largest(num1,num2,num3)\n",
    "print(\"largest number is:- \", largest)"
   ]
  },
  {
   "cell_type": "code",
   "execution_count": 43,
   "id": "9a7ea220",
   "metadata": {},
   "outputs": [
    {
     "name": "stdout",
     "output_type": "stream",
     "text": [
      "how many numbers are there:- 6\n",
      "Enter number:-12\n",
      "Enter number:-43\n",
      "Enter number:-12\n",
      "Enter number:-54\n",
      "Enter number:-76\n",
      "Enter number:-34\n",
      "{34, 43, 12, 76, 54}\n",
      "76\n"
     ]
    }
   ],
   "source": [
    "def is_largest():\n",
    "    numbers =set()\n",
    "    nums = int(input((\"how many numbers are there:- \")))\n",
    "    for i in range(nums):\n",
    "        numbers.add(int(input(\"Enter number:-\")))\n",
    "    print(numbers)\n",
    "    return max(numbers)\n",
    "\n",
    "largest= is_largest()\n",
    "print(largest)\n"
   ]
  },
  {
   "cell_type": "markdown",
   "id": "2cefebd1",
   "metadata": {},
   "source": [
    "###### "
   ]
  }
 ],
 "metadata": {
  "kernelspec": {
   "display_name": "Python 3 (ipykernel)",
   "language": "python",
   "name": "python3"
  },
  "language_info": {
   "codemirror_mode": {
    "name": "ipython",
    "version": 3
   },
   "file_extension": ".py",
   "mimetype": "text/x-python",
   "name": "python",
   "nbconvert_exporter": "python",
   "pygments_lexer": "ipython3",
   "version": "3.11.5"
  }
 },
 "nbformat": 4,
 "nbformat_minor": 5
}
