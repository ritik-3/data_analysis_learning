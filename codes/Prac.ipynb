{
 "cells": [
  {
   "cell_type": "code",
   "execution_count": 1,
   "id": "126cb807",
   "metadata": {},
   "outputs": [
    {
     "name": "stdout",
     "output_type": "stream",
     "text": [
      "Enter the number of disks: 3\n",
      "Move disk 3 from A to C\n",
      "Move disk 2 from A to B\n",
      "Move disk 1 from A to C\n",
      "Move disk 1 from C to B\n",
      "Move disk 2 from B to C\n",
      "Move disk 1 from B to A\n",
      "Move disk 1 from A to C\n"
     ]
    }
   ],
   "source": [
    "num_disks = int(input(\"Enter the number of disks: \"))\n",
    "\n",
    "source = 'A'\n",
    "aux = 'B'\n",
    "target = 'C'\n",
    "\n",
    "stack=[(num_disks, source , aux , target)]\n",
    "\n",
    "while stack:\n",
    "    n,source,aux,target=stack.pop()\n",
    "    \n",
    "    if n==1:\n",
    "        print(f\"Move disk {n} from {source} to {target}\")\n",
    "    else:\n",
    "        stack.append((n-1,aux,source,target))\n",
    "        print(f\"Move disk {n} from {source} to {target}\")\n",
    "        stack.append((n-1,source,target,aux))"
   ]
  },
  {
   "cell_type": "code",
   "execution_count": null,
   "id": "10d95b8c",
   "metadata": {},
   "outputs": [],
   "source": []
  }
 ],
 "metadata": {
  "kernelspec": {
   "display_name": "Python 3 (ipykernel)",
   "language": "python",
   "name": "python3"
  },
  "language_info": {
   "codemirror_mode": {
    "name": "ipython",
    "version": 3
   },
   "file_extension": ".py",
   "mimetype": "text/x-python",
   "name": "python",
   "nbconvert_exporter": "python",
   "pygments_lexer": "ipython3",
   "version": "3.11.5"
  }
 },
 "nbformat": 4,
 "nbformat_minor": 5
}
