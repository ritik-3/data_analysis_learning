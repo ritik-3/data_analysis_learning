{
 "cells": [
  {
   "cell_type": "code",
   "execution_count": 7,
   "id": "ef8c10c0",
   "metadata": {},
   "outputs": [
    {
     "name": "stdout",
     "output_type": "stream",
     "text": [
      "1.93 µs ± 108 ns per loop (mean ± std. dev. of 7 runs, 1,000,000 loops each)\n"
     ]
    }
   ],
   "source": [
    "%timeit [j**3 for j in range(1,9)]"
   ]
  },
  {
   "cell_type": "code",
   "execution_count": 2,
   "id": "10c7359d",
   "metadata": {},
   "outputs": [
    {
     "name": "stdout",
     "output_type": "stream",
     "text": [
      "5.1 µs ± 221 ns per loop (mean ± std. dev. of 7 runs, 100,000 loops each)\n"
     ]
    }
   ],
   "source": [
    "import numpy as np\n",
    "\n",
    "%timeit np.arange(1,9)**3"
   ]
  },
  {
   "cell_type": "code",
   "execution_count": 11,
   "id": "27ae545f",
   "metadata": {},
   "outputs": [
    {
     "name": "stdout",
     "output_type": "stream",
     "text": [
      "[1 2 3 4] <class 'numpy.ndarray'>\n",
      "1\n"
     ]
    }
   ],
   "source": [
    "x=[1,2,3,4]\n",
    "\n",
    "y=np.array(x)\n",
    "\n",
    "print(y,type(y))\n",
    "print(y.ndim)"
   ]
  },
  {
   "cell_type": "code",
   "execution_count": 15,
   "id": "ad78b650",
   "metadata": {},
   "outputs": [
    {
     "name": "stdout",
     "output_type": "stream",
     "text": [
      "enter a word:- 1\n",
      "enter a word:- 2\n",
      "enter a word:- 4\n",
      "enter a word:- 5\n",
      "['1' '2' '4' '5']\n"
     ]
    }
   ],
   "source": [
    "l=[]\n",
    "\n",
    "for i in range(4):\n",
    "    x=input(\"enter a word:- \")\n",
    "    l.append(x)\n",
    "y=np.array(l)\n",
    "print(y)"
   ]
  },
  {
   "cell_type": "code",
   "execution_count": 7,
   "id": "79725302",
   "metadata": {},
   "outputs": [
    {
     "name": "stdout",
     "output_type": "stream",
     "text": [
      "[[[1 2 3]\n",
      "  [2 3 4]\n",
      "  [1 2 3]]] <class 'numpy.ndarray'>\n",
      "3\n"
     ]
    }
   ],
   "source": [
    "y=np.array([[[1,2,3],[2,3,4],[1,2,3]]])\n",
    "print(y,type(y))\n",
    "print(y.ndim)"
   ]
  },
  {
   "cell_type": "code",
   "execution_count": 8,
   "id": "0c22b1de",
   "metadata": {},
   "outputs": [
    {
     "name": "stdout",
     "output_type": "stream",
     "text": [
      "[[['1']]] <class 'numpy.ndarray'>\n",
      "3\n"
     ]
    }
   ],
   "source": [
    "y=np.array([[[\"1\"]]])\n",
    "print(y,type(y))\n",
    "print(y.ndim)"
   ]
  },
  {
   "cell_type": "code",
   "execution_count": 9,
   "id": "22f9f7c5",
   "metadata": {},
   "outputs": [
    {
     "name": "stdout",
     "output_type": "stream",
     "text": [
      "[[[[[[1 2 3]]]]]] <class 'numpy.ndarray'>\n",
      "6\n"
     ]
    }
   ],
   "source": [
    "y=np.array([1,2,3],ndmin=6)\n",
    "print(y,type(y))\n",
    "print(y.ndim)"
   ]
  },
  {
   "cell_type": "code",
   "execution_count": 10,
   "id": "a4c06c17",
   "metadata": {},
   "outputs": [
    {
     "name": "stdout",
     "output_type": "stream",
     "text": [
      "[] <class 'numpy.ndarray'>\n",
      "3\n"
     ]
    }
   ],
   "source": [
    "\n",
    "x=np.array([[[]]])\n",
    "print(x,type(x))\n",
    "print(x.ndim)"
   ]
  },
  {
   "cell_type": "code",
   "execution_count": 14,
   "id": "fa7ca981",
   "metadata": {},
   "outputs": [
    {
     "name": "stdout",
     "output_type": "stream",
     "text": [
      "[[0. 0. 0.]\n",
      " [0. 0. 0.]\n",
      " [0. 0. 0.]\n",
      " [0. 0. 0.]]\n",
      "<class 'numpy.ndarray'>\n",
      "2\n"
     ]
    }
   ],
   "source": [
    "#zero filled array\n",
    "\n",
    "\n",
    "x=np.zeros((4,3))\n",
    "print(x)\n",
    "print(type(x))\n",
    "print(x.ndim)"
   ]
  },
  {
   "cell_type": "code",
   "execution_count": 21,
   "id": "a953d0d6",
   "metadata": {},
   "outputs": [
    {
     "name": "stdout",
     "output_type": "stream",
     "text": [
      "[0. 0. 0. 0.]\n",
      "<class 'numpy.ndarray'>\n",
      "1\n"
     ]
    }
   ],
   "source": [
    "#zero filled array\n",
    "\n",
    "\n",
    "x=np.zeros(4)\n",
    "\n",
    "print(x)\n",
    "print(type(x))\n",
    "print(x.ndim)"
   ]
  },
  {
   "cell_type": "code",
   "execution_count": 25,
   "id": "d2a5a133",
   "metadata": {},
   "outputs": [
    {
     "name": "stdout",
     "output_type": "stream",
     "text": [
      "[[0. 0. 0.]\n",
      " [0. 0. 0.]\n",
      " [0. 0. 0.]\n",
      " [0. 0. 0.]]\n",
      "<class 'numpy.ndarray'>\n",
      "2\n"
     ]
    }
   ],
   "source": [
    "#zero filled array\n",
    "\n",
    "\n",
    "x=np.zeros((4,3))\n",
    "print(x)\n",
    "print(type(x))\n",
    "print(x.ndim)"
   ]
  },
  {
   "cell_type": "code",
   "execution_count": 26,
   "id": "e690d32b",
   "metadata": {},
   "outputs": [
    {
     "name": "stdout",
     "output_type": "stream",
     "text": [
      "[[[0. 0. 0. 0.]\n",
      "  [0. 0. 0. 0.]\n",
      "  [0. 0. 0. 0.]\n",
      "  [0. 0. 0. 0.]]]\n",
      "<class 'numpy.ndarray'>\n",
      "3\n"
     ]
    }
   ],
   "source": [
    "#zero filled array\n",
    "\n",
    "\n",
    "x=np.zeros((1,4,4))\n",
    "print(x)\n",
    "print(type(x))\n",
    "print(x.ndim)"
   ]
  },
  {
   "cell_type": "code",
   "execution_count": 28,
   "id": "9c2051de",
   "metadata": {},
   "outputs": [
    {
     "name": "stdout",
     "output_type": "stream",
     "text": [
      "[[[1. 1. 1. 1.]\n",
      "  [1. 1. 1. 1.]\n",
      "  [1. 1. 1. 1.]\n",
      "  [1. 1. 1. 1.]]]\n",
      "<class 'numpy.ndarray'>\n",
      "3\n"
     ]
    }
   ],
   "source": [
    "#ones filled array\n",
    "\n",
    "\n",
    "x=np.ones((1,4,4))\n",
    "print(x)\n",
    "print(type(x))\n",
    "print(x.ndim)"
   ]
  },
  {
   "cell_type": "code",
   "execution_count": 33,
   "id": "548f8a07",
   "metadata": {},
   "outputs": [
    {
     "name": "stdout",
     "output_type": "stream",
     "text": [
      "[1 3 5 7 9]\n"
     ]
    }
   ],
   "source": [
    "#arange\n",
    "\n",
    "x=np.arange(1,10,2)\n",
    "print(x)"
   ]
  },
  {
   "cell_type": "code",
   "execution_count": 34,
   "id": "ed30dfa6",
   "metadata": {},
   "outputs": [
    {
     "name": "stdout",
     "output_type": "stream",
     "text": [
      "[0 1 2 3 4 5 6 7 8 9]\n"
     ]
    }
   ],
   "source": [
    "#arange\n",
    "\n",
    "x=np.arange(10)\n",
    "print(x)"
   ]
  },
  {
   "cell_type": "code",
   "execution_count": 35,
   "id": "0756760a",
   "metadata": {},
   "outputs": [
    {
     "name": "stdout",
     "output_type": "stream",
     "text": [
      "[1. 3. 5. 7. 9.]\n"
     ]
    }
   ],
   "source": [
    "#arange\n",
    "\n",
    "x=np.arange(1,9.1,2)\n",
    "print(x)"
   ]
  },
  {
   "cell_type": "code",
   "execution_count": 51,
   "id": "c1bd613c",
   "metadata": {},
   "outputs": [
    {
     "name": "stdout",
     "output_type": "stream",
     "text": [
      "[[[0 1 2 3 4]]]\n"
     ]
    }
   ],
   "source": [
    "#arange\n",
    "\n",
    "x=np.array(np.arange(5),ndmin=3)\n",
    "print(x)"
   ]
  },
  {
   "cell_type": "code",
   "execution_count": 54,
   "id": "89e070d5",
   "metadata": {},
   "outputs": [
    {
     "name": "stdout",
     "output_type": "stream",
     "text": [
      "[[0 1 2 3]\n",
      " [4 5 6 7]]\n"
     ]
    }
   ],
   "source": [
    "x=np.array([np.arange(4),np.arange(4,8)])\n",
    "print(x)"
   ]
  },
  {
   "cell_type": "code",
   "execution_count": 5,
   "id": "57f4bc1f",
   "metadata": {},
   "outputs": [
    {
     "name": "stdout",
     "output_type": "stream",
     "text": [
      "[ 0.   2.5  5.   7.5 10. ]\n",
      "[1. 2. 3. 4. 5.]\n"
     ]
    }
   ],
   "source": [
    "import numpy as np\n",
    "\n",
    "#inspace or linear space\n",
    "\n",
    "arr=np.linspace(0,10,5)\n",
    "print(arr)\n",
    "\n",
    "arr=np.linspace(1,5,5)\n",
    "print(arr)"
   ]
  },
  {
   "cell_type": "code",
   "execution_count": 17,
   "id": "dbcc48cd",
   "metadata": {},
   "outputs": [
    {
     "name": "stdout",
     "output_type": "stream",
     "text": [
      "[1.         1.11111111 1.22222222 1.33333333 1.44444444 1.55555556\n",
      " 1.66666667 1.77777778 1.88888889 2.        ]\n"
     ]
    }
   ],
   "source": [
    "y=np.linspace(1,2,10)\n",
    "print(y)"
   ]
  },
  {
   "cell_type": "code",
   "execution_count": 33,
   "id": "088670f6",
   "metadata": {},
   "outputs": [
    {
     "name": "stdout",
     "output_type": "stream",
     "text": [
      "[[0.12675121 0.2984524  0.8772008  0.3620129  0.73337237 0.32570733\n",
      "  0.65007574 0.79402206 0.97555307 0.62527893 0.36216159 0.81319087\n",
      "  0.0526032  0.03579924 0.8555015  0.39965153 0.01067115 0.28229955\n",
      "  0.29572318 0.212157  ]\n",
      " [0.44469359 0.02463359 0.41993208 0.3610322  0.25255953 0.57241662\n",
      "  0.97759728 0.65607076 0.38798692 0.12059473 0.52073832 0.13919632\n",
      "  0.12525517 0.34515007 0.51474145 0.60266961 0.24139413 0.48070508\n",
      "  0.70793443 0.96626148]\n",
      " [0.19474575 0.91617788 0.30509471 0.04405364 0.55820731 0.66340575\n",
      "  0.97270618 0.59071682 0.60651223 0.34114599 0.70897011 0.34284991\n",
      "  0.60046874 0.74690107 0.4582805  0.92077177 0.43345973 0.39610099\n",
      "  0.77180368 0.88223718]\n",
      " [0.77668515 0.75139138 0.81917101 0.14950893 0.15434786 0.91820861\n",
      "  0.40059237 0.84824932 0.50021215 0.25238309 0.85146364 0.05802644\n",
      "  0.64361096 0.99239435 0.61341473 0.17312131 0.49700343 0.64546563\n",
      "  0.61426329 0.62773425]]\n"
     ]
    }
   ],
   "source": [
    "y=np.random.rand(4,20)\n",
    "print(y)"
   ]
  },
  {
   "cell_type": "markdown",
   "id": "ee6ac1a8",
   "metadata": {},
   "source": [
    "# Randint\n",
    "\n",
    "randint(low,high,size=())\n",
    "\n",
    "here-- low is inclusive, high is exclusive\n",
    "\n"
   ]
  },
  {
   "cell_type": "code",
   "execution_count": 3,
   "id": "e9297a27",
   "metadata": {},
   "outputs": [
    {
     "name": "stdout",
     "output_type": "stream",
     "text": [
      "2\n"
     ]
    }
   ],
   "source": [
    "import numpy as np\n",
    "arr=np.random.randint(4)\n",
    "print(arr)"
   ]
  },
  {
   "cell_type": "code",
   "execution_count": 4,
   "id": "e396a39d",
   "metadata": {},
   "outputs": [
    {
     "name": "stdout",
     "output_type": "stream",
     "text": [
      "[17 15  8 15 13  7 18 15  1  9]\n"
     ]
    }
   ],
   "source": [
    "arr1=np.random.randint(1,20,10)\n",
    "print(arr1)"
   ]
  },
  {
   "cell_type": "code",
   "execution_count": 7,
   "id": "fa4dbd77",
   "metadata": {},
   "outputs": [
    {
     "name": "stdout",
     "output_type": "stream",
     "text": [
      "[[[80 15 95 70 67]\n",
      "  [41 47  4 49 38]\n",
      "  [28 54 28  9 55]\n",
      "  [ 8 53 38 78 86]\n",
      "  [49 66 87 82 90]]\n",
      "\n",
      " [[ 8 48 63 91 14]\n",
      "  [39  7 83 63 72]\n",
      "  [36  7  7 57 56]\n",
      "  [67 92 63 71 20]\n",
      "  [81 93 81 26 42]]]\n",
      "50\n",
      "(2, 5, 5)\n"
     ]
    }
   ],
   "source": [
    "arr2=np.random.randint(1,100,size=(2,5,5))\n",
    "print(arr2)\n",
    "print(arr2.size)\n",
    "print(arr2.shape)"
   ]
  },
  {
   "cell_type": "code",
   "execution_count": 11,
   "id": "e0e1d107",
   "metadata": {},
   "outputs": [
    {
     "name": "stdout",
     "output_type": "stream",
     "text": [
      "5\n",
      "4\n"
     ]
    }
   ],
   "source": [
    "arr=np.array([[1,2,3,4],[5,6,7,8]])\n",
    "print(arr[1,0])\n",
    "print(arr[0,-1])\n"
   ]
  },
  {
   "cell_type": "code",
   "execution_count": 20,
   "id": "3dfe63d0",
   "metadata": {},
   "outputs": [
    {
     "name": "stdout",
     "output_type": "stream",
     "text": [
      "[[[1 2 3 4]\n",
      "  [0 9 8 7]]]\n"
     ]
    }
   ],
   "source": [
    "arr=np.array([[[1,2,3,4],[0,9,8,7]]])\n",
    "print(arr)"
   ]
  },
  {
   "cell_type": "markdown",
   "id": "bcf4f755",
   "metadata": {},
   "source": [
    "# reshape\n",
    "\n",
    "reshape(matrix,row,column)\n",
    "\n"
   ]
  },
  {
   "cell_type": "code",
   "execution_count": 9,
   "id": "84d17c39",
   "metadata": {},
   "outputs": [
    {
     "name": "stdout",
     "output_type": "stream",
     "text": [
      "[[[19 45]\n",
      "  [62  9]\n",
      "  [72 97]]\n",
      "\n",
      " [[16 96]\n",
      "  [93 55]\n",
      "  [57 79]]]\n"
     ]
    }
   ],
   "source": [
    "import numpy as np \n",
    "arr=np.random.randint(1,100,12)\n",
    "\n",
    "arr1=arr.reshape(2,3,2)\n",
    "print(arr1)"
   ]
  },
  {
   "cell_type": "code",
   "execution_count": 17,
   "id": "a59ce368",
   "metadata": {},
   "outputs": [
    {
     "name": "stdout",
     "output_type": "stream",
     "text": [
      "[[[7 9 3]\n",
      "  [8 6 9]\n",
      "  [6 1 7]]\n",
      "\n",
      " [[8 5 8]\n",
      "  [4 1 1]\n",
      "  [1 4 8]]\n",
      "\n",
      " [[8 4 5]\n",
      "  [1 3 4]\n",
      "  [6 7 8]]]\n"
     ]
    }
   ],
   "source": [
    "a=np.random.randint(1,10,27)\n",
    "a2=a.reshape(3,3,3)\n",
    "print(a2)"
   ]
  },
  {
   "cell_type": "code",
   "execution_count": null,
   "id": "7624a7ec",
   "metadata": {},
   "outputs": [],
   "source": []
  },
  {
   "cell_type": "code",
   "execution_count": 18,
   "id": "9abe0a8b",
   "metadata": {},
   "outputs": [
    {
     "name": "stdout",
     "output_type": "stream",
     "text": [
      "[1 2 3 4 5]\n",
      "\n",
      "[1 2 3 4 5]\n"
     ]
    }
   ],
   "source": [
    "arr=np.array([1,2,3,4,5])\n",
    "print(arr)\n",
    "print()\n",
    "co=arr.copy()\n",
    "print(co)"
   ]
  },
  {
   "cell_type": "code",
   "execution_count": 19,
   "id": "fda068c6",
   "metadata": {},
   "outputs": [
    {
     "name": "stdout",
     "output_type": "stream",
     "text": [
      "[1 2 3 4 5]\n"
     ]
    }
   ],
   "source": [
    "arr=np.array([1,2,3,4,5])\n",
    "\n",
    "co=arr.view()\n",
    "print(co)"
   ]
  },
  {
   "cell_type": "code",
   "execution_count": 3,
   "id": "58118428",
   "metadata": {},
   "outputs": [
    {
     "name": "stdout",
     "output_type": "stream",
     "text": [
      "[1 2 3 4]\n",
      "1\n",
      "2\n",
      "3\n",
      "4\n"
     ]
    }
   ],
   "source": [
    "import numpy as np\n",
    "\n",
    "arr=np.array([1,2,3,4])\n",
    "print(arr)\n",
    "\n",
    "for i in arr:\n",
    "    print(i)"
   ]
  },
  {
   "cell_type": "code",
   "execution_count": 7,
   "id": "e0e2a4c8",
   "metadata": {},
   "outputs": [
    {
     "name": "stdout",
     "output_type": "stream",
     "text": [
      "[[1 2 3 4]\n",
      " [5 6 7 8]]\n",
      "[1 2 3 4]\n",
      "1\n",
      "2\n",
      "3\n",
      "4\n",
      "[5 6 7 8]\n",
      "5\n",
      "6\n",
      "7\n",
      "8\n"
     ]
    }
   ],
   "source": [
    "arr=np.array([[1,2,3,4],[5,6,7,8]])\n",
    "print(arr)\n",
    "\n",
    "for i in arr:\n",
    "    print(i)\n",
    "    for j in i:\n",
    "        print(j)"
   ]
  },
  {
   "cell_type": "code",
   "execution_count": 9,
   "id": "7dc3206f",
   "metadata": {},
   "outputs": [
    {
     "name": "stdout",
     "output_type": "stream",
     "text": [
      "aaray= [[[1 2 3 4]\n",
      "  [5 6 7 8]]]\n",
      "i= [[1 2 3 4]\n",
      " [5 6 7 8]]\n",
      "j= [1 2 3 4]\n",
      "k= 1\n",
      "k= 2\n",
      "k= 3\n",
      "k= 4\n",
      "j= [5 6 7 8]\n",
      "k= 5\n",
      "k= 6\n",
      "k= 7\n",
      "k= 8\n"
     ]
    }
   ],
   "source": [
    "arr=np.array([[[1,2,3,4],[5,6,7,8]]])\n",
    "print(\"aaray=\",arr)\n",
    "\n",
    "for i in arr:\n",
    "    print(\"i=\",i)\n",
    "    for j in i:\n",
    "        print(\"j=\",j)\n",
    "        for k in j:\n",
    "            print(\"k=\",k)"
   ]
  },
  {
   "cell_type": "code",
   "execution_count": 10,
   "id": "59690a63",
   "metadata": {},
   "outputs": [
    {
     "name": "stdout",
     "output_type": "stream",
     "text": [
      "aaray= [[[1 2 3 4]\n",
      "  [5 6 7 8]]]\n",
      "1\n",
      "2\n",
      "3\n",
      "4\n",
      "5\n",
      "6\n",
      "7\n",
      "8\n"
     ]
    }
   ],
   "source": [
    "arr=np.array([[[1,2,3,4],[5,6,7,8]]])\n",
    "print(\"aaray=\",arr)\n",
    "\n",
    "for i in np.nditer(arr):\n",
    "    print(i)"
   ]
  },
  {
   "cell_type": "code",
   "execution_count": 11,
   "id": "a2a005f8",
   "metadata": {},
   "outputs": [
    {
     "name": "stdout",
     "output_type": "stream",
     "text": [
      "aaray= [[[1 2 3 4]\n",
      "  [5 6 7 8]]]\n",
      "((0, 0, 0), 1)\n",
      "((0, 0, 1), 2)\n",
      "((0, 0, 2), 3)\n",
      "((0, 0, 3), 4)\n",
      "((0, 1, 0), 5)\n",
      "((0, 1, 1), 6)\n",
      "((0, 1, 2), 7)\n",
      "((0, 1, 3), 8)\n"
     ]
    }
   ],
   "source": [
    "arr=np.array([[[1,2,3,4],[5,6,7,8]]])\n",
    "print(\"aaray=\",arr)\n",
    "\n",
    "for i in np.ndenumerate(arr):\n",
    "    print(i)"
   ]
  },
  {
   "cell_type": "code",
   "execution_count": 19,
   "id": "16fb3b27",
   "metadata": {},
   "outputs": [
    {
     "name": "stdout",
     "output_type": "stream",
     "text": [
      "[1 2 3]\n",
      "\n",
      "[4 5 6]\n",
      "\n",
      "[1 2 3 4 5 6]\n"
     ]
    }
   ],
   "source": [
    "arr1=np.array([1,2,3])\n",
    "arr2=np.array([4,5,6])\n",
    "\n",
    "print(arr1)\n",
    "print()\n",
    "print(arr2)\n",
    "print()\n",
    "\n",
    "arr=np.concatenate((arr1,arr2))\n",
    "print(arr)"
   ]
  },
  {
   "cell_type": "code",
   "execution_count": 16,
   "id": "38e14eed",
   "metadata": {},
   "outputs": [
    {
     "name": "stdout",
     "output_type": "stream",
     "text": [
      "[[1 2]\n",
      " [3 4]]\n",
      "\n",
      "[[4 6]\n",
      " [7 8]]\n",
      "\n",
      "[[1 2 4 6]\n",
      " [3 4 7 8]]\n"
     ]
    }
   ],
   "source": [
    "arr1=np.array([[1,2],[3,4]])\n",
    "arr2=np.array([[4,6],[7,8]])\n",
    "\n",
    "print(arr1)\n",
    "print()\n",
    "print(arr2)\n",
    "print()\n",
    "\n",
    "arr=np.concatenate((arr1,arr2),axis=1)\n",
    "print(arr)"
   ]
  },
  {
   "cell_type": "code",
   "execution_count": 17,
   "id": "99312384",
   "metadata": {},
   "outputs": [
    {
     "name": "stdout",
     "output_type": "stream",
     "text": [
      "[[1 2]\n",
      " [3 4]]\n",
      "\n",
      "[[4 6]\n",
      " [7 8]]\n",
      "\n",
      "[[1 2]\n",
      " [3 4]\n",
      " [4 6]\n",
      " [7 8]]\n"
     ]
    }
   ],
   "source": [
    "arr1=np.array([[1,2],[3,4]])\n",
    "arr2=np.array([[4,6],[7,8]])\n",
    "\n",
    "print(arr1)\n",
    "print()\n",
    "print(arr2)\n",
    "print()\n",
    "\n",
    "arr=np.concatenate((arr1,arr2))\n",
    "print(arr)"
   ]
  },
  {
   "cell_type": "code",
   "execution_count": 25,
   "id": "2cec1c1c",
   "metadata": {},
   "outputs": [
    {
     "name": "stdout",
     "output_type": "stream",
     "text": [
      "[[[1 2]\n",
      "  [3 4]]]\n",
      "\n",
      "[[[4 6]\n",
      "  [7 8]]]\n",
      "\n",
      "[[[1 2 4 6]\n",
      "  [3 4 7 8]]]\n"
     ]
    }
   ],
   "source": [
    "arr1=np.array([[[1,2],[3,4]]])\n",
    "arr2=np.array([[[4,6],[7,8]]])\n",
    "\n",
    "print(arr1)\n",
    "print()\n",
    "print(arr2)\n",
    "print()\n",
    "               \n",
    "arr=np.concatenate((arr1,arr2),axis=2)\n",
    "print(arr)"
   ]
  },
  {
   "cell_type": "code",
   "execution_count": 28,
   "id": "b1c8101d",
   "metadata": {},
   "outputs": [
    {
     "name": "stdout",
     "output_type": "stream",
     "text": [
      "[1 2 3 4]\n",
      "\n",
      "[5 6 7 8]\n",
      "\n",
      "[[1 2 3 4]\n",
      " [5 6 7 8]]\n",
      "\n",
      "[1 2 3 4 5 6 7 8]\n",
      "\n",
      "[[1 2 3 4]\n",
      " [5 6 7 8]]\n",
      "\n",
      "[[[1 5]\n",
      "  [2 6]\n",
      "  [3 7]\n",
      "  [4 8]]]\n"
     ]
    }
   ],
   "source": [
    "arr1=np.array([1,2,3,4])\n",
    "arr2=np.array([5,6,7,8])\n",
    "\n",
    "print(arr1)\n",
    "print()\n",
    "print(arr2)\n",
    "print()\n",
    "\n",
    "new1=np.stack((arr1,arr2))\n",
    "print(new1)\n",
    "print()\n",
    "\n",
    "new2=np.hstack((arr1,arr2))\n",
    "print(new2)\n",
    "print()\n",
    "\n",
    "new3=np.vstack((arr1,arr2))\n",
    "print(new3)\n",
    "print()\n",
    "\n",
    "new4=np.dstack((arr1,arr2))\n",
    "print(new4)"
   ]
  },
  {
   "cell_type": "code",
   "execution_count": 29,
   "id": "238b1261",
   "metadata": {},
   "outputs": [
    {
     "name": "stdout",
     "output_type": "stream",
     "text": [
      "[1 2 3 4]\n",
      "\n",
      "[5 6 7 8]\n",
      "\n",
      "[[1 2 3 4]\n",
      " [5 6 7 8]]\n",
      "(2, 4)\n",
      "8\n"
     ]
    }
   ],
   "source": [
    "arr1=np.array([1,2,3,4])\n",
    "arr2=np.array([5,6,7,8])\n",
    "\n",
    "print(arr1)\n",
    "print()\n",
    "print(arr2)\n",
    "print()\n",
    "\n",
    "\n",
    "new3=np.vstack((arr1,arr2))\n",
    "print(new3)\n",
    "print(new3.shape)\n",
    "print(new3.size)"
   ]
  },
  {
   "cell_type": "code",
   "execution_count": null,
   "id": "86d9e340",
   "metadata": {},
   "outputs": [],
   "source": []
  }
 ],
 "metadata": {
  "kernelspec": {
   "display_name": "Python 3 (ipykernel)",
   "language": "python",
   "name": "python3"
  },
  "language_info": {
   "codemirror_mode": {
    "name": "ipython",
    "version": 3
   },
   "file_extension": ".py",
   "mimetype": "text/x-python",
   "name": "python",
   "nbconvert_exporter": "python",
   "pygments_lexer": "ipython3",
   "version": "3.11.5"
  }
 },
 "nbformat": 4,
 "nbformat_minor": 5
}
