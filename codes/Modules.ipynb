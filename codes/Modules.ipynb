{
 "cells": [
  {
   "cell_type": "code",
   "execution_count": 1,
   "id": "60722141",
   "metadata": {},
   "outputs": [
    {
     "name": "stdout",
     "output_type": "stream",
     "text": [
      "importing Jupyter notebook from module7.ipynb\n",
      "30\n"
     ]
    }
   ],
   "source": [
    "import import_ipynb\n",
    "import module7\n",
    "\n",
    "module7.sum(10,20)"
   ]
  },
  {
   "cell_type": "code",
   "execution_count": 3,
   "id": "fa724007",
   "metadata": {},
   "outputs": [
    {
     "name": "stdout",
     "output_type": "stream",
     "text": [
      "10\n"
     ]
    }
   ],
   "source": [
    "import module7 as m\n",
    "m.mult(2,5)"
   ]
  },
  {
   "cell_type": "code",
   "execution_count": 4,
   "id": "fd435c61",
   "metadata": {},
   "outputs": [
    {
     "name": "stdout",
     "output_type": "stream",
     "text": [
      "8\n"
     ]
    }
   ],
   "source": [
    "from module7 import mult\n",
    "mult(2,4)"
   ]
  },
  {
   "cell_type": "code",
   "execution_count": 4,
   "id": "a4c49c48",
   "metadata": {},
   "outputs": [
    {
     "name": "stdout",
     "output_type": "stream",
     "text": [
      "7\n"
     ]
    }
   ],
   "source": [
    "import mcalcu as cal\n",
    "res = cal.add(2,5)\n",
    "print(res)"
   ]
  },
  {
   "cell_type": "code",
   "execution_count": 5,
   "id": "7719dae7",
   "metadata": {},
   "outputs": [
    {
     "name": "stdout",
     "output_type": "stream",
     "text": [
      "9\n"
     ]
    }
   ],
   "source": [
    "from mcalcu import subs\n",
    "res = subs(18,9)\n",
    "print(res)"
   ]
  },
  {
   "cell_type": "code",
   "execution_count": 6,
   "id": "9bc70f26",
   "metadata": {},
   "outputs": [
    {
     "name": "stdout",
     "output_type": "stream",
     "text": [
      "12\n"
     ]
    }
   ],
   "source": [
    "from mcalcu import multi\n",
    "res = multi(2,6)\n",
    "print(res)"
   ]
  },
  {
   "cell_type": "code",
   "execution_count": 6,
   "id": "6c25bb8a",
   "metadata": {},
   "outputs": [
    {
     "name": "stdout",
     "output_type": "stream",
     "text": [
      "how many numbers are there:- 4\n",
      "Enter number:-7\n",
      "Enter number:-9\n",
      "Enter number:-3\n",
      "Enter number:-1\n",
      "{9, 3, 1, 7}\n",
      "9\n"
     ]
    }
   ],
   "source": [
    "from mcalcu import is_largest\n",
    "\n",
    "lar = is_largest()\n",
    "print(lar)"
   ]
  },
  {
   "cell_type": "code",
   "execution_count": 3,
   "id": "c393b2cb",
   "metadata": {},
   "outputs": [
    {
     "name": "stdout",
     "output_type": "stream",
     "text": [
      "how many numbers are there:- 5\n",
      "Enter number:-0\n",
      "Enter number:-12\n",
      "Enter number:-12\n",
      "Enter number:-12\n",
      "Enter number:-5\n",
      "{0, 12, 5}\n",
      "0\n"
     ]
    }
   ],
   "source": [
    "from mcalcu import is_smallest\n",
    "\n",
    "sml = is_smallest()\n",
    "print(sml)"
   ]
  },
  {
   "cell_type": "code",
   "execution_count": null,
   "id": "4d855010",
   "metadata": {},
   "outputs": [],
   "source": []
  }
 ],
 "metadata": {
  "kernelspec": {
   "display_name": "Python 3 (ipykernel)",
   "language": "python",
   "name": "python3"
  },
  "language_info": {
   "codemirror_mode": {
    "name": "ipython",
    "version": 3
   },
   "file_extension": ".py",
   "mimetype": "text/x-python",
   "name": "python",
   "nbconvert_exporter": "python",
   "pygments_lexer": "ipython3",
   "version": "3.11.5"
  }
 },
 "nbformat": 4,
 "nbformat_minor": 5
}
