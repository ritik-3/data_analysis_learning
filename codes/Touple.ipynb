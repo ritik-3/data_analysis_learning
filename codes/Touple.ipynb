{
 "cells": [
  {
   "cell_type": "markdown",
   "id": "d7ca1dd5",
   "metadata": {},
   "source": [
    "# Touples\n",
    "a type of data structure that is very similar to lists.\n",
    "\n",
    "It is immutable\n"
   ]
  },
  {
   "cell_type": "code",
   "execution_count": 6,
   "id": "5fd647ef",
   "metadata": {},
   "outputs": [
    {
     "name": "stdout",
     "output_type": "stream",
     "text": [
      "150\n",
      "10\n",
      "50\n",
      "[10, 20, 30, 40, 50]\n",
      "[50, 40, 30, 20, 10]\n"
     ]
    }
   ],
   "source": [
    "t=(10,20,40,30,50)\n",
    "\n",
    "#sum\n",
    "print(sum(t))\n",
    "\n",
    "#min\n",
    "print(min(t))\n",
    "\n",
    "#max\n",
    "print(max(t))\n",
    "\n",
    "#sorted\n",
    "print(sorted(t))\n",
    "print(sorted(t,reverse=True))"
   ]
  },
  {
   "cell_type": "markdown",
   "id": "2d8611ed",
   "metadata": {},
   "source": [
    "# methods of touple\n",
    "\n",
    "\n",
    "index-- syntax touple.index(element,occurance)\n",
    "\n",
    "count-- syntax touple.count(element)"
   ]
  },
  {
   "cell_type": "code",
   "execution_count": 10,
   "id": "683585d0",
   "metadata": {},
   "outputs": [
    {
     "name": "stdout",
     "output_type": "stream",
     "text": [
      "0\n",
      "5\n",
      "2\n"
     ]
    }
   ],
   "source": [
    "t=(10,20,30,40,50,10)\n",
    "\n",
    "print(t.index(10))\n",
    "\n",
    "print(t.index(10,1))\n",
    "\n",
    "print(t.count(10))"
   ]
  },
  {
   "cell_type": "code",
   "execution_count": 26,
   "id": "f8b682a8",
   "metadata": {},
   "outputs": [
    {
     "name": "stdout",
     "output_type": "stream",
     "text": [
      "100\n",
      "cybrom\n"
     ]
    }
   ],
   "source": [
    "t=(10,20,(34,\"hello\",(23,100),20,40),\"cybrom\")\n",
    "print(t[2][2][1])\n",
    "print(t[3])"
   ]
  },
  {
   "cell_type": "code",
   "execution_count": 30,
   "id": "cf044d00",
   "metadata": {},
   "outputs": [
    {
     "name": "stdout",
     "output_type": "stream",
     "text": [
      "True\n"
     ]
    }
   ],
   "source": [
    "t=(45,45,45,45)\n",
    "print(all(t))"
   ]
  },
  {
   "cell_type": "code",
   "execution_count": 1,
   "id": "374d629a",
   "metadata": {},
   "outputs": [
    {
     "name": "stdout",
     "output_type": "stream",
     "text": [
      "True\n"
     ]
    }
   ],
   "source": [
    "t=(45,45,45,45)\n",
    "c=0\n",
    "for i in range(len(t)):\n",
    "    for j in range(i+1,len(t)):\n",
    "        if t[i]!=t[j]:\n",
    "            \n",
    "            c=c+1\n",
    "if c==0:\n",
    "    print(\"True\")\n",
    "else:\n",
    "    print(\"False\")\n"
   ]
  },
  {
   "cell_type": "code",
   "execution_count": 44,
   "id": "6e310701",
   "metadata": {},
   "outputs": [
    {
     "name": "stdout",
     "output_type": "stream",
     "text": [
      "<class 'tuple'>\n"
     ]
    }
   ],
   "source": [
    "t=(50,)\n",
    "print(type(t))"
   ]
  },
  {
   "cell_type": "code",
   "execution_count": 46,
   "id": "de774b14",
   "metadata": {},
   "outputs": [
    {
     "name": "stdout",
     "output_type": "stream",
     "text": [
      "(10, 20, 40, 20, 60, 89)\n"
     ]
    }
   ],
   "source": [
    "t=(10,20,40)\n",
    "t1=(20,60,89)\n",
    "print(t+t1)"
   ]
  },
  {
   "cell_type": "code",
   "execution_count": null,
   "id": "280e3dcc",
   "metadata": {},
   "outputs": [],
   "source": []
  }
 ],
 "metadata": {
  "kernelspec": {
   "display_name": "Python 3 (ipykernel)",
   "language": "python",
   "name": "python3"
  },
  "language_info": {
   "codemirror_mode": {
    "name": "ipython",
    "version": 3
   },
   "file_extension": ".py",
   "mimetype": "text/x-python",
   "name": "python",
   "nbconvert_exporter": "python",
   "pygments_lexer": "ipython3",
   "version": "3.11.5"
  }
 },
 "nbformat": 4,
 "nbformat_minor": 5
}
