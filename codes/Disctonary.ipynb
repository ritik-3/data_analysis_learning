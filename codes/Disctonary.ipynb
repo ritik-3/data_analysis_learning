{
 "cells": [
  {
   "cell_type": "markdown",
   "id": "f923c81a",
   "metadata": {},
   "source": [
    "# Disctionary\n",
    "\n",
    "data collection stored in key:value pair\n",
    "\n",
    "ordered\n",
    "\n",
    "unindexed\n",
    "\n",
    "mutable\n",
    "\n",
    "key unique value duplicate\n",
    "\n",
    "dist={\"key\":[value]}"
   ]
  },
  {
   "cell_type": "code",
   "execution_count": 1,
   "id": "c8ff0584",
   "metadata": {},
   "outputs": [
    {
     "name": "stdout",
     "output_type": "stream",
     "text": [
      "{'name': ['Abc', 'Def', 'XYZ'], 'subject': ['Python', 'C++'], 'fees': [2000, 3000], 'duration': ['2month', '3month']} <class 'dict'>\n"
     ]
    }
   ],
   "source": [
    "d={\n",
    "    \"name\":[\"Abc\",\"Def\",\"XYZ\"],\n",
    "    \"subject\":[\"Python\", \"C++\"],\n",
    "    \"fees\":[2000,3000],\n",
    "    \"duration\":[\"2month\",\"3month\"]\n",
    "}\n",
    "\n",
    "print(d,type(d))"
   ]
  },
  {
   "cell_type": "code",
   "execution_count": 4,
   "id": "dac7882b",
   "metadata": {},
   "outputs": [
    {
     "name": "stdout",
     "output_type": "stream",
     "text": [
      "{'name': 'abc', 'subject': 'python'}\n"
     ]
    }
   ],
   "source": [
    "d=dict(name=\"abc\",subject=\"python\")\n",
    "print(d)"
   ]
  },
  {
   "cell_type": "code",
   "execution_count": 8,
   "id": "c4dac5b4",
   "metadata": {},
   "outputs": [
    {
     "name": "stdout",
     "output_type": "stream",
     "text": [
      "['Abc', 'Def', 'XYZ'] 2000\n"
     ]
    }
   ],
   "source": [
    "d={\n",
    "    \"name\":[\"Abc\",\"Def\",\"XYZ\"],\n",
    "    \"subject\":[\"Python\", \"C++\"],\n",
    "    \"fees\":[2000,3000],\n",
    "    \"duration\":[\"2month\",\"3month\"]\n",
    "}\n",
    "\n",
    "print(d[\"name\"], d[\"fees\"][0])"
   ]
  },
  {
   "cell_type": "code",
   "execution_count": 11,
   "id": "f188c784",
   "metadata": {},
   "outputs": [
    {
     "name": "stdout",
     "output_type": "stream",
     "text": [
      "{'name': ['Abc', 'Def', 'XYZ'], 'subject': ['Python', 'C++'], 'fees': [2000, 3000, 300], 'duration': ['2month', '3month']}\n"
     ]
    }
   ],
   "source": [
    "d[\"fees\"].append(300)\n",
    "print(d)"
   ]
  },
  {
   "cell_type": "code",
   "execution_count": 2,
   "id": "4d06077b",
   "metadata": {},
   "outputs": [
    {
     "name": "stdout",
     "output_type": "stream",
     "text": [
      "[2000, 3000]\n",
      "2000\n"
     ]
    }
   ],
   "source": [
    "d={\n",
    "    \"name\":[\"Abc\",\"Def\",\"XYZ\"],\n",
    "    \"subject\":[\"Python\", \"C++\"],\n",
    "    \"fees\":[2000,3000],\n",
    "    \"duration\":[\"2month\",\"3month\"]\n",
    "}\n",
    "\n",
    "print(d.get(\"fees\"))\n",
    "a=d.get(\"fees\")\n",
    "print(a[0])"
   ]
  },
  {
   "cell_type": "code",
   "execution_count": 14,
   "id": "c73e1d96",
   "metadata": {},
   "outputs": [
    {
     "name": "stdout",
     "output_type": "stream",
     "text": [
      "dict_keys(['name', 'subject', 'fees', 'duration'])\n"
     ]
    }
   ],
   "source": [
    "d={\n",
    "    \"name\":[\"Abc\",\"Def\",\"XYZ\"],\n",
    "    \"subject\":[\"Python\", \"C++\"],\n",
    "    \"fees\":[2000,3000],\n",
    "    \"duration\":[\"2month\",\"3month\"]\n",
    "}\n",
    "print(d.keys())"
   ]
  },
  {
   "cell_type": "code",
   "execution_count": 4,
   "id": "cfaaf3c7",
   "metadata": {},
   "outputs": [
    {
     "name": "stdout",
     "output_type": "stream",
     "text": [
      "dict_values([['Abc', 'Def', 'XYZ'], ['Python', 'C++'], [2000, 3000], ['2month', '3month']])\n",
      "['Abc', 'Def', 'XYZ']\n",
      "['Python', 'C++']\n",
      "[2000, 3000]\n",
      "['2month', '3month']\n"
     ]
    }
   ],
   "source": [
    "d={\n",
    "    \"name\":[\"Abc\",\"Def\",\"XYZ\"],\n",
    "    \"subject\":[\"Python\", \"C++\"],\n",
    "    \"fees\":[2000,3000],\n",
    "    \"duration\":[\"2month\",\"3month\"]\n",
    "}\n",
    "print(d.values())\n",
    "for i in d.values():\n",
    "    print(i)"
   ]
  },
  {
   "cell_type": "code",
   "execution_count": 21,
   "id": "5527b0e5",
   "metadata": {},
   "outputs": [
    {
     "name": "stdout",
     "output_type": "stream",
     "text": [
      "name ['Abc', 'Def', 'XYZ']\n",
      "subject ['Python', 'C++']\n",
      "fees [2000, 3000]\n",
      "duration ['2month', '3month']\n"
     ]
    }
   ],
   "source": [
    "d={\n",
    "    \"name\":[\"Abc\",\"Def\",\"XYZ\"],\n",
    "    \"subject\":[\"Python\", \"C++\"],\n",
    "    \"fees\":[2000,3000],\n",
    "    \"duration\":[\"2month\",\"3month\"]\n",
    "}\n",
    "for i,j in d.items():\n",
    "    print(i,j)"
   ]
  },
  {
   "cell_type": "code",
   "execution_count": 23,
   "id": "37858b3b",
   "metadata": {},
   "outputs": [
    {
     "name": "stdout",
     "output_type": "stream",
     "text": [
      "['Abc', 'Def', 'XYZ']\n",
      "['Python', 'C++']\n",
      "[2000, 3000]\n",
      "['2month', '3month']\n"
     ]
    }
   ],
   "source": [
    "d={\n",
    "    \"name\":[\"Abc\",\"Def\",\"XYZ\"],\n",
    "    \"subject\":[\"Python\", \"C++\"],\n",
    "    \"fees\":[2000,3000],\n",
    "    \"duration\":[\"2month\",\"3month\"]\n",
    "}\n",
    "for i in d:\n",
    "    print(d[i])"
   ]
  },
  {
   "cell_type": "code",
   "execution_count": 25,
   "id": "82db3681",
   "metadata": {},
   "outputs": [
    {
     "name": "stdout",
     "output_type": "stream",
     "text": [
      "[2000, 3000]\n",
      "{'name': ['Abc', 'Def', 'XYZ'], 'subject': ['Python', 'C++'], 'duration': ['2month', '3month']}\n"
     ]
    }
   ],
   "source": [
    "d={\n",
    "    \"name\":[\"Abc\",\"Def\",\"XYZ\"],\n",
    "    \"subject\":[\"Python\", \"C++\"],\n",
    "    \"fees\":[2000,3000],\n",
    "    \"duration\":[\"2month\",\"3month\"]\n",
    "}\n",
    "\n",
    "print(d.pop(\"fees\"))\n",
    "print(d)\n"
   ]
  },
  {
   "cell_type": "code",
   "execution_count": 5,
   "id": "c9104ac2",
   "metadata": {},
   "outputs": [
    {
     "name": "stdout",
     "output_type": "stream",
     "text": [
      "{'name': ['Abc', 'Def', 'XYZ'], 'subject': ['Python', 'C++'], 'duration': ['2month', '3month']}\n",
      "{'name': ['Abc', 'XYZ'], 'subject': ['Python', 'C++'], 'duration': ['2month', '3month']}\n"
     ]
    }
   ],
   "source": [
    "d={\n",
    "    \"name\":[\"Abc\",\"Def\",\"XYZ\"],\n",
    "    \"subject\":[\"Python\", \"C++\"],\n",
    "    \"fees\":[2000,3000],\n",
    "    \"duration\":[\"2month\",\"3month\"]\n",
    "}\n",
    "del d[\"fees\"]\n",
    "print(d)\n",
    "del d[\"name\"][1]\n",
    "print(d)"
   ]
  },
  {
   "cell_type": "code",
   "execution_count": 3,
   "id": "8df8c390",
   "metadata": {},
   "outputs": [
    {
     "name": "stdout",
     "output_type": "stream",
     "text": [
      "Abc\n",
      "Def\n",
      "XYZ\n",
      "Python\n",
      "C++\n",
      "2000\n",
      "3000\n",
      "2month\n",
      "3month\n"
     ]
    }
   ],
   "source": [
    "d={\n",
    "    \"name\":[\"Abc\",\"Def\",\"XYZ\"],\n",
    "    \"subject\":[\"Python\", \"C++\"],\n",
    "    \"fees\":[2000,3000],\n",
    "    \"duration\":[\"2month\",\"3month\"]\n",
    "}\n",
    "for i in d:\n",
    "    for j in d[i]:\n",
    "        print(j)"
   ]
  },
  {
   "cell_type": "code",
   "execution_count": 7,
   "id": "6e6ec631",
   "metadata": {},
   "outputs": [
    {
     "name": "stdout",
     "output_type": "stream",
     "text": [
      "{'name': 'XYZ', 'subject': ['Python', 'C++'], 'fees': 1000, 'duration': ['2month', '3month']}\n"
     ]
    }
   ],
   "source": [
    "d={\n",
    "    \"name\":[\"Abc\",\"Def\",\"XYZ\"],\n",
    "    \"subject\":[\"Python\", \"C++\"],\n",
    "    \"fees\":[2000,3000],\n",
    "    \"duration\":[\"2month\",\"3month\"]\n",
    "}\n",
    "d.update({\"name\":\"XYZ\"})\n",
    "d.update(fees=1000)\n",
    "print(d)"
   ]
  },
  {
   "cell_type": "code",
   "execution_count": 11,
   "id": "7269c2a6",
   "metadata": {},
   "outputs": [
    {
     "name": "stdout",
     "output_type": "stream",
     "text": [
      "{0: 0, 1: 1, 2: 4, 3: 9, 4: 16, 5: 25, 6: 36, 7: 49, 8: 64, 9: 81}\n"
     ]
    }
   ],
   "source": [
    "l=[0,1,2,3,4,5,6,7,8,9]\n",
    "d={}\n",
    "\n",
    "for i in l:\n",
    "    d.update({i:i*i})\n",
    "print(d)\n",
    "   "
   ]
  },
  {
   "cell_type": "code",
   "execution_count": 9,
   "id": "3dd8ad05",
   "metadata": {},
   "outputs": [
    {
     "name": "stdout",
     "output_type": "stream",
     "text": [
      "{0: 0, 1: 1, 2: 4, 3: 9, 4: 16, 5: 25, 6: 36, 7: 49, 8: 64, 9: 81}\n"
     ]
    }
   ],
   "source": [
    "l=[0,1,2,3,4,5,6,7,8,9]\n",
    "d={}\n",
    "for i in l:\n",
    "    d[i]=i**2\n",
    "print(d)"
   ]
  },
  {
   "cell_type": "code",
   "execution_count": 10,
   "id": "af2f80d4",
   "metadata": {},
   "outputs": [
    {
     "name": "stdout",
     "output_type": "stream",
     "text": [
      "{0: 0, 1: 1, 2: 4, 3: 9, 4: 16, 5: 25, 6: 36, 7: 49, 8: 64, 9: 81}\n"
     ]
    }
   ],
   "source": [
    "d={}\n",
    "for i in range(10):\n",
    "    d[i]=i**2\n",
    "print(d)"
   ]
  },
  {
   "cell_type": "code",
   "execution_count": 12,
   "id": "a89eaaad",
   "metadata": {},
   "outputs": [
    {
     "name": "stdout",
     "output_type": "stream",
     "text": [
      "{0: 0, 1: 1, 2: 4, 3: 9, 4: 16, 5: 25, 6: 36, 7: 49, 8: 64, 9: 81}\n"
     ]
    }
   ],
   "source": [
    "print({i:i**2 for i in range(10)})"
   ]
  },
  {
   "cell_type": "code",
   "execution_count": 29,
   "id": "d72c94db",
   "metadata": {},
   "outputs": [
    {
     "name": "stdout",
     "output_type": "stream",
     "text": [
      "{'A': 0, 'B': 1, 'C': 8, 'D': 27, 'E': 64}\n"
     ]
    }
   ],
   "source": [
    "d={}\n",
    "for i in range(5):\n",
    "    d[chr(i+65)]=i**3\n",
    "print(d)"
   ]
  },
  {
   "cell_type": "code",
   "execution_count": 36,
   "id": "eecb4904",
   "metadata": {},
   "outputs": [
    {
     "name": "stdout",
     "output_type": "stream",
     "text": [
      "{'red': 3, 'yellow': 2, 'orange': 1, 'brown': 1}\n"
     ]
    }
   ],
   "source": [
    "l=[\"red\",\"yellow\",\"red\",\"orange\",\"red\",\"yellow\",\"brown\"]\n",
    "d={}\n",
    "for i in l:\n",
    "    d[\"red\"]=l.count(\"red\")\n",
    "    d[\"yellow\"]=l.count(\"yellow\")\n",
    "    d[\"orange\"]=l.count(\"orange\")\n",
    "    d[\"brown\"]=l.count(\"brown\")\n",
    "print(d)"
   ]
  },
  {
   "cell_type": "code",
   "execution_count": 39,
   "id": "9efec511",
   "metadata": {},
   "outputs": [
    {
     "name": "stdout",
     "output_type": "stream",
     "text": [
      "{'red': 3, 'yellow': 2, 'orange': 1, 'brown': 1}\n",
      "brown\n"
     ]
    }
   ],
   "source": [
    "l=[\"red\",\"yellow\",\"red\",\"orange\",\"red\",\"yellow\",\"brown\"]\n",
    "d={}\n",
    "for i in l:\n",
    "    if i in d:\n",
    "        d[i]=d[i]+1\n",
    "    else:\n",
    "        d[i]=1\n",
    "print(d)\n",
    "    "
   ]
  },
  {
   "cell_type": "code",
   "execution_count": 4,
   "id": "fa92d26b",
   "metadata": {},
   "outputs": [
    {
     "name": "stdout",
     "output_type": "stream",
     "text": [
      "['hello', 'World', 'hello', 'Python']\n",
      "{'hello': 2, 'World': 1, 'Python': 1}\n"
     ]
    }
   ],
   "source": [
    "d={}\n",
    "s=\"hello World hello Python\"\n",
    "words=s.split()\n",
    "print(words)\n",
    "\n",
    "for i in words:\n",
    "    if i in d:\n",
    "        d[i]=d[i]+1\n",
    "    else:\n",
    "        d[i]=1\n",
    "print(d)\n",
    "    "
   ]
  },
  {
   "cell_type": "code",
   "execution_count": 30,
   "id": "6d52bb38",
   "metadata": {},
   "outputs": [
    {
     "name": "stdout",
     "output_type": "stream",
     "text": [
      "{'a': 300, 'b': 600, 'c': 300, 'd': 500}\n"
     ]
    }
   ],
   "source": [
    "d1={\"a\":100,\"b\":200,\"c\":300}\n",
    "d2={\"a\":200,\"b\":400,\"d\":500}\n",
    "d={}\n",
    "for i in d1:\n",
    "    if i in d:\n",
    "        d[i]=d1[i]+d[i]\n",
    "    else:\n",
    "        d[i]=d1[i]\n",
    "for i in d2:\n",
    "    if i in d:\n",
    "        d[i]=d2[i]+d[i]\n",
    "    else:\n",
    "        d[i]=d2[i]\n",
    "print(d)"
   ]
  },
  {
   "cell_type": "code",
   "execution_count": 43,
   "id": "be9ab178",
   "metadata": {},
   "outputs": [
    {
     "name": "stdout",
     "output_type": "stream",
     "text": [
      "{1: 'a', 2: 'b', 3: 'c', 4: 'd'}\n"
     ]
    }
   ],
   "source": [
    "d={'a':1,'b':2,'c':3,'d':4}\n",
    "d1={}\n",
    "for i in d:\n",
    "    d1.update({d[i]:i})\n",
    "print(d1)"
   ]
  },
  {
   "cell_type": "code",
   "execution_count": 47,
   "id": "eba98c1e",
   "metadata": {},
   "outputs": [
    {
     "name": "stdout",
     "output_type": "stream",
     "text": [
      "{1: 'a', 2: 'b', 3: 'c', 4: 'd'}\n"
     ]
    }
   ],
   "source": [
    "d={'a':1,'b':2,'c':3,'d':4}\n",
    "d1={}\n",
    "{d1.update({d[i]:i}) for i in d}\n",
    "print(d1)"
   ]
  },
  {
   "cell_type": "code",
   "execution_count": null,
   "id": "4dea14e1",
   "metadata": {},
   "outputs": [],
   "source": []
  },
  {
   "cell_type": "code",
   "execution_count": null,
   "id": "1ef51ed6",
   "metadata": {},
   "outputs": [],
   "source": []
  }
 ],
 "metadata": {
  "kernelspec": {
   "display_name": "Python 3 (ipykernel)",
   "language": "python",
   "name": "python3"
  },
  "language_info": {
   "codemirror_mode": {
    "name": "ipython",
    "version": 3
   },
   "file_extension": ".py",
   "mimetype": "text/x-python",
   "name": "python",
   "nbconvert_exporter": "python",
   "pygments_lexer": "ipython3",
   "version": "3.11.5"
  }
 },
 "nbformat": 4,
 "nbformat_minor": 5
}
