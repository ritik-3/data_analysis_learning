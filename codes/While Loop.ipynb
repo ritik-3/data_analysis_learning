{
 "cells": [
  {
   "cell_type": "code",
   "execution_count": 4,
   "id": "54edc0aa",
   "metadata": {},
   "outputs": [
    {
     "name": "stdout",
     "output_type": "stream",
     "text": [
      "0 hellow\n",
      "1 hellow\n",
      "2 hellow\n",
      "3 hellow\n",
      "4 hellow\n",
      "5 hellow\n",
      "6 hellow\n",
      "7 hellow\n",
      "8 hellow\n",
      "9 hellow\n",
      "10 hellow\n"
     ]
    }
   ],
   "source": [
    "##while loop\n",
    "##start==initialize\n",
    "##stop==condition\n",
    "##step==increment/decrement\n",
    "\n",
    "i=0\n",
    "while i<=10:\n",
    "    print(i, \"hellow\")\n",
    "    i+=1\n",
    "    "
   ]
  },
  {
   "cell_type": "code",
   "execution_count": 18,
   "id": "0db1e04f",
   "metadata": {},
   "outputs": [
    {
     "name": "stdout",
     "output_type": "stream",
     "text": [
      "Enter a number: 09\n",
      "reverce 9\n"
     ]
    }
   ],
   "source": [
    "#reverce number...\n",
    "\n",
    "n=int(input(\"Enter a number: \"))\n",
    "rev=0\n",
    "while n!=0:\n",
    "    rev=(rev*10)+(n%10)\n",
    "    n=n//10\n",
    "print(\"reverce\", rev)"
   ]
  },
  {
   "cell_type": "code",
   "execution_count": 20,
   "id": "8a6a0f23",
   "metadata": {},
   "outputs": [
    {
     "name": "stdout",
     "output_type": "stream",
     "text": [
      "Enter a number: 5678654\n",
      "4568765"
     ]
    }
   ],
   "source": [
    "n=int(input(\"Enter a number: \"))\n",
    "\n",
    "while n!=0:\n",
    "    last_num= n%10\n",
    "    print(last_num, end=\"\")\n",
    "    n=n//10"
   ]
  },
  {
   "cell_type": "code",
   "execution_count": 10,
   "id": "4522a3e0",
   "metadata": {},
   "outputs": [
    {
     "name": "stdout",
     "output_type": "stream",
     "text": [
      "Enter a number: 1634\n",
      "1634 is armstrong.\n"
     ]
    }
   ],
   "source": [
    "#armstrong number\n",
    "n = int(input(\"Enter a number: \"))\n",
    "old=n\n",
    "arm=0\n",
    "a=len(str(n))\n",
    "\n",
    "while n!=0:\n",
    "    dig=n%10\n",
    "    arm=arm+(dig**a)\n",
    "    n=n//10\n",
    "\n",
    "if old==arm:\n",
    "    print(old,\"is armstrong.\")\n",
    "else:\n",
    "    print(old, \"is not armstrong.\")\n",
    "\n"
   ]
  },
  {
   "cell_type": "code",
   "execution_count": 3,
   "id": "f25b2f40",
   "metadata": {},
   "outputs": [
    {
     "name": "stdout",
     "output_type": "stream",
     "text": [
      "Enter a number: 153\n",
      "153 is not armstrong.\n"
     ]
    }
   ],
   "source": []
  },
  {
   "cell_type": "code",
   "execution_count": 20,
   "id": "356c94f9",
   "metadata": {},
   "outputs": [
    {
     "name": "stdout",
     "output_type": "stream",
     "text": [
      "Enter a number: 153\n",
      "153\n",
      "153 is armstrong.\n"
     ]
    }
   ],
   "source": [
    "#armstrong number\n",
    "n = int(input(\"Enter a number: \"))\n",
    "old=n\n",
    "arm=0\n",
    "a=len(str(n))\n",
    "for i in range(a):\n",
    "    dig=n%10\n",
    "    arm=arm+(dig**a)\n",
    "    n=n//10\n",
    "\n",
    "print(arm)\n",
    "if old==arm:\n",
    "    print(old,\"is armstrong.\")\n",
    "else:\n",
    "    print(old, \"is not armstrong.\")"
   ]
  },
  {
   "cell_type": "markdown",
   "id": "32488aef",
   "metadata": {},
   "source": []
  }
 ],
 "metadata": {
  "kernelspec": {
   "display_name": "Python 3 (ipykernel)",
   "language": "python",
   "name": "python3"
  },
  "language_info": {
   "codemirror_mode": {
    "name": "ipython",
    "version": 3
   },
   "file_extension": ".py",
   "mimetype": "text/x-python",
   "name": "python",
   "nbconvert_exporter": "python",
   "pygments_lexer": "ipython3",
   "version": "3.11.5"
  }
 },
 "nbformat": 4,
 "nbformat_minor": 5
}
