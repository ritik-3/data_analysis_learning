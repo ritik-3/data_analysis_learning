{
 "cells": [
  {
   "cell_type": "code",
   "execution_count": null,
   "id": "6530572d",
   "metadata": {},
   "outputs": [],
   "source": [
    "def add(a,b):\n",
    "    result =a+b\n",
    "    return result\n",
    "\n",
    "def subs(a,b):\n",
    "    result = a-b\n",
    "    return result\n",
    "\n",
    "def multi(a,b):\n",
    "    result= a*b\n",
    "    return result\n",
    "\n",
    "def divide(a,b):\n",
    "    result = a/b\n",
    "    return result\n",
    "\n",
    "def is_largest():\n",
    "    numbers =set()\n",
    "    nums = int(input((\"how many numbers are there:- \")))\n",
    "    for i in range(nums):\n",
    "        numbers.add(int(input(\"Enter number:-\")))\n",
    "    print(numbers)\n",
    "    return max(numbers)\n",
    "\n",
    "def is_smallest():\n",
    "    numbers =set()\n",
    "    nums = int(input((\"how many numbers are there:- \")))\n",
    "    for i in range(nums):\n",
    "        numbers.add(int(input(\"Enter number:-\")))\n",
    "    print(numbers)\n",
    "    return min(numbers)"
   ]
  }
 ],
 "metadata": {
  "kernelspec": {
   "display_name": "Python 3 (ipykernel)",
   "language": "python",
   "name": "python3"
  },
  "language_info": {
   "codemirror_mode": {
    "name": "ipython",
    "version": 3
   },
   "file_extension": ".py",
   "mimetype": "text/x-python",
   "name": "python",
   "nbconvert_exporter": "python",
   "pygments_lexer": "ipython3",
   "version": "3.11.5"
  }
 },
 "nbformat": 4,
 "nbformat_minor": 5
}
