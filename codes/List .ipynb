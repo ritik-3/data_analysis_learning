{
 "cells": [
  {
   "cell_type": "markdown",
   "id": "d445d932",
   "metadata": {},
   "source": [
    "# LIST\n",
    "hetrogenious\n",
    "collection of element\n",
    "mutable <b>\n",
    "iterable"
   ]
  },
  {
   "cell_type": "code",
   "execution_count": 18,
   "id": "52f2b4d1",
   "metadata": {},
   "outputs": [
    {
     "name": "stdout",
     "output_type": "stream",
     "text": [
      "414\n"
     ]
    }
   ],
   "source": [
    "l=[100,39,50,76,90,87,98]\n",
    "sum=0\n",
    "for i in l:\n",
    "    if i%2==0:\n",
    "        sum=sum+i\n",
    "print(sum)"
   ]
  },
  {
   "cell_type": "code",
   "execution_count": 29,
   "id": "a5ce968c",
   "metadata": {},
   "outputs": [
    {
     "name": "stdout",
     "output_type": "stream",
     "text": [
      "tech\n"
     ]
    }
   ],
   "source": [
    "l=[10,20,40,\"hello\",[30,[10,\"hello\",[\"tech\"],20],20,40],100]\n",
    "print(l[4][1][2][0])"
   ]
  },
  {
   "cell_type": "code",
   "execution_count": 31,
   "id": "4cb9483f",
   "metadata": {},
   "outputs": [
    {
     "name": "stdout",
     "output_type": "stream",
     "text": [
      "414\n"
     ]
    }
   ],
   "source": [
    "l=[100,39,50,76,90,87,98]\n",
    "sum=0\n",
    "for i in range(len(l)):\n",
    "    if l[i]%2==0:\n",
    "        sum = sum+l[i]\n",
    "print(sum)"
   ]
  },
  {
   "cell_type": "code",
   "execution_count": 5,
   "id": "d24ffa2f",
   "metadata": {},
   "outputs": [
    {
     "name": "stdout",
     "output_type": "stream",
     "text": [
      "[8, 64, 27, 343, 512, 125, 1000]\n"
     ]
    }
   ],
   "source": [
    "l=[2,4,3,7,8,5,10]\n",
    "new=[]\n",
    "for i in l:\n",
    "    new.append(i*i*i)\n",
    "\n",
    "print(new)\n",
    "    "
   ]
  },
  {
   "cell_type": "markdown",
   "id": "1b94cec1",
   "metadata": {},
   "source": [
    "# list commprihention"
   ]
  },
  {
   "cell_type": "code",
   "execution_count": 10,
   "id": "9db33c1d",
   "metadata": {},
   "outputs": [
    {
     "name": "stdout",
     "output_type": "stream",
     "text": [
      "[8, 64, 27, 343, 512, 125, 1000]\n"
     ]
    }
   ],
   "source": [
    "print([i**3 for i in l])"
   ]
  },
  {
   "cell_type": "code",
   "execution_count": 22,
   "id": "fcdf5be3",
   "metadata": {
    "scrolled": true
   },
   "outputs": [
    {
     "name": "stdout",
     "output_type": "stream",
     "text": [
      "['hello dear', 'hello sir', 'take dear', 'take sir']\n"
     ]
    }
   ],
   "source": [
    "l1=[\"hello\",\"take\"]\n",
    "l2=[\"dear\",\"sir\"]\n",
    "new=[]\n",
    "for i in l1:\n",
    "    for j in l2:\n",
    "        new.append(i+ \" \" + j)\n",
    "print(new)"
   ]
  },
  {
   "cell_type": "code",
   "execution_count": 24,
   "id": "83840cbb",
   "metadata": {},
   "outputs": [
    {
     "name": "stdout",
     "output_type": "stream",
     "text": [
      "['hello dear', 'hello sir', 'take dear', 'take sir']\n"
     ]
    }
   ],
   "source": [
    "print([i+ \" \"+j for i in l1 for j in l2])"
   ]
  },
  {
   "cell_type": "code",
   "execution_count": 26,
   "id": "c682a9e7",
   "metadata": {},
   "outputs": [
    {
     "ename": "SyntaxError",
     "evalue": "'[' was never closed (2926675912.py, line 1)",
     "output_type": "error",
     "traceback": [
      "\u001b[1;36m  Cell \u001b[1;32mIn[26], line 1\u001b[1;36m\u001b[0m\n\u001b[1;33m    l1 = [10,100,\"tech\",\"t\",[100,\"C\",[80,300,\"Bhopal\"],1,12,34]\u001b[0m\n\u001b[1;37m         ^\u001b[0m\n\u001b[1;31mSyntaxError\u001b[0m\u001b[1;31m:\u001b[0m '[' was never closed\n"
     ]
    }
   ],
   "source": [
    "l1 = [10,100,\"tech\",\"t\",[100,\"C\",[80,300,\"Bhopal\"],1,12,34]\n",
    "l2 = [\"Nagpur\",\"Mumbai\"]\n",
    "\n"
   ]
  },
  {
   "cell_type": "code",
   "execution_count": 39,
   "id": "09a27546",
   "metadata": {},
   "outputs": [
    {
     "name": "stdout",
     "output_type": "stream",
     "text": [
      "[10, 100, 'tech', 't', [100, 'C', [80, 300, 'Bhopal', 'Nagpur', 'Mumbai'], 1], 12, 34]\n"
     ]
    }
   ],
   "source": [
    "l1 = [10,100,\"tech\",\"t\",[100,\"C\",[80,300,\"Bhopal\"],1],12,34]\n",
    "l2 = [\"Nagpur\",\"Mumbai\"]\n",
    "l1[4][2].extend(l2)\n",
    "print(l1)"
   ]
  },
  {
   "cell_type": "code",
   "execution_count": 44,
   "id": "51e78758",
   "metadata": {},
   "outputs": [
    {
     "name": "stdout",
     "output_type": "stream",
     "text": [
      "[10, 100, 'tech', 't', [100, 'C', [80, 300, 'Bhopal', ['Nagpur', 'Mumbai']], 1], 12, 34]\n"
     ]
    }
   ],
   "source": [
    "l1 = [10,100,\"tech\",\"t\",[100,\"C\",[80,300,\"Bhopal\"],1],12,34]\n",
    "l2 = [\"Nagpur\",\"Mumbai\"]\n",
    "\n",
    "for i in l1:\n",
    "    l1[4][2].append(l2)\n",
    "    break\n",
    "print(l1)\n"
   ]
  },
  {
   "cell_type": "code",
   "execution_count": 54,
   "id": "e5e59c40",
   "metadata": {},
   "outputs": [
    {
     "name": "stdout",
     "output_type": "stream",
     "text": [
      "[10, 100, 'tech', 't', [100, 'C', [80, 300, 'Bhopal', 'Nagpur', 'Mumbai'], 1], 12, 34]\n"
     ]
    }
   ],
   "source": [
    "l1 = [10,100,\"tech\",\"t\",[100,\"C\",[80,300,\"Bhopal\"],1],12,34]\n",
    "l2 = [\"Nagpur\",\"Mumbai\"]\n",
    "\n",
    "for i in range(len(l2)):\n",
    "    l1[4][2].insert(i+3,l2[i])\n",
    "print(l1)"
   ]
  },
  {
   "cell_type": "markdown",
   "id": "09d7cd44",
   "metadata": {},
   "source": [
    "# sort(method)\n",
    "sorts the list using same list \n",
    "default accending order\n",
    "\n",
    "list.sort(reverse=[True/False],key)"
   ]
  },
  {
   "cell_type": "code",
   "execution_count": 4,
   "id": "1e9ddb6c",
   "metadata": {},
   "outputs": [
    {
     "name": "stdout",
     "output_type": "stream",
     "text": [
      "[65, 40, 32, 20, 10, 2]\n",
      "[2, 10, 20, 32, 40, 65]\n"
     ]
    }
   ],
   "source": [
    "l=[10,20,40,65,32,2]\n",
    "\n",
    "##reverce is not mandatory to write.\n",
    "l.sort(reverse=True)\n",
    "print(l)\n",
    "\n",
    "\n",
    "l.sort()\n",
    "print(l)"
   ]
  },
  {
   "cell_type": "markdown",
   "id": "d4869834",
   "metadata": {},
   "source": [
    "sorted(funtion)"
   ]
  },
  {
   "cell_type": "code",
   "execution_count": 16,
   "id": "5b615c1c",
   "metadata": {},
   "outputs": [
    {
     "name": "stdout",
     "output_type": "stream",
     "text": [
      "[10, 54, 67, 90, 98]\n"
     ]
    }
   ],
   "source": [
    "l=[10,98,67,54,90]\n",
    "\n",
    "\n",
    "for i in range(len(l)):\n",
    "    for j in range(len(l)):\n",
    "        if l[i]<l[j]:\n",
    "            l[i],l[j]=l[j],l[i]\n",
    "print(l)"
   ]
  },
  {
   "cell_type": "code",
   "execution_count": 17,
   "id": "bb8c3c6a",
   "metadata": {},
   "outputs": [
    {
     "name": "stdout",
     "output_type": "stream",
     "text": [
      "[10, 54, 67, 90, 98]\n"
     ]
    }
   ],
   "source": [
    "l=[10,98,67,54,90]\n",
    "\n",
    "\n",
    "for i in range(len(l)):\n",
    "    for j in range(len(l)):\n",
    "        if l[i]<l[j]:\n",
    "            l[i],l[j]=l[j],l[i]\n",
    "print(l)"
   ]
  },
  {
   "cell_type": "code",
   "execution_count": 31,
   "id": "0e9aa411",
   "metadata": {},
   "outputs": [
    {
     "name": "stdout",
     "output_type": "stream",
     "text": [
      "[[[1, 2, 3], ['x', 'y', 'z'], ['A', 'B', 'C']]]\n"
     ]
    }
   ],
   "source": [
    "list1= [[1,2,3], ['x','y','z'], ['A','B','C']]\n",
    "list2=[]\n",
    "\n",
    "for i in range(len(list1)):\n",
    "    \n",
    "    list2.append(list1)\n",
    "    break\n",
    "print(list2)"
   ]
  },
  {
   "cell_type": "code",
   "execution_count": 24,
   "id": "dc563ecc",
   "metadata": {},
   "outputs": [
    {
     "name": "stdout",
     "output_type": "stream",
     "text": [
      "[1, 2, 3, 'x', 'y', 'z', 'A', 'B', 'C']\n"
     ]
    }
   ],
   "source": [
    "l1= [[1,2,3], ['x','y','z'], ['A','B','C']]\n",
    "l=[]\n",
    "for i in l1:\n",
    "    l=l+i\n",
    "print(l)"
   ]
  },
  {
   "cell_type": "code",
   "execution_count": 41,
   "id": "d7528eeb",
   "metadata": {},
   "outputs": [
    {
     "name": "stdout",
     "output_type": "stream",
     "text": [
      "2\n"
     ]
    }
   ],
   "source": [
    "l=['abc','xyz','aba','1221']\n",
    "count=0\n",
    "for i in l:\n",
    "    if len(i)>2 and i[0]==i[-1]:\n",
    "        count+=1\n",
    "        \n",
    "print(count)"
   ]
  },
  {
   "cell_type": "code",
   "execution_count": 1,
   "id": "d510b99e",
   "metadata": {},
   "outputs": [
    {
     "name": "stdout",
     "output_type": "stream",
     "text": [
      "[(1, 2), (2, 1), (2, 3), (2, 5), (4, 4)]\n"
     ]
    }
   ],
   "source": [
    "list1 = [(2,5),(1,2),(4,4),(2,3),(2,1)]\n",
    "sorted_list=sorted(list1)\n",
    "print(sorted_list)"
   ]
  },
  {
   "cell_type": "code",
   "execution_count": 11,
   "id": "5e53e0c5",
   "metadata": {},
   "outputs": [
    {
     "ename": "TypeError",
     "evalue": "cannot unpack non-iterable int object",
     "output_type": "error",
     "traceback": [
      "\u001b[1;31m---------------------------------------------------------------------------\u001b[0m",
      "\u001b[1;31mTypeError\u001b[0m                                 Traceback (most recent call last)",
      "Cell \u001b[1;32mIn[11], line 5\u001b[0m\n\u001b[0;32m      3\u001b[0m     \u001b[38;5;28;01mfor\u001b[39;00m j \u001b[38;5;129;01min\u001b[39;00m \u001b[38;5;28mrange\u001b[39m(\u001b[38;5;241m0\u001b[39m,\u001b[38;5;28mlen\u001b[39m(l)\u001b[38;5;241m-\u001b[39mi\u001b[38;5;241m-\u001b[39m\u001b[38;5;241m1\u001b[39m):\n\u001b[0;32m      4\u001b[0m         \u001b[38;5;28;01mif\u001b[39;00m l[j][j\u001b[38;5;241m+\u001b[39m\u001b[38;5;241m1\u001b[39m]\u001b[38;5;241m>\u001b[39ml[j\u001b[38;5;241m+\u001b[39m\u001b[38;5;241m1\u001b[39m][\u001b[38;5;241m1\u001b[39m]:\n\u001b[1;32m----> 5\u001b[0m             l[j],l[j\u001b[38;5;241m+\u001b[39m\u001b[38;5;241m1\u001b[39m]\u001b[38;5;241m=\u001b[39ml[j\u001b[38;5;241m+\u001b[39m\u001b[38;5;241m1\u001b[39m][j]\n\u001b[0;32m      6\u001b[0m \u001b[38;5;28mprint\u001b[39m(l)\n",
      "\u001b[1;31mTypeError\u001b[0m: cannot unpack non-iterable int object"
     ]
    }
   ],
   "source": [
    "l = [(2,5),(1,2),(4,4),(2,3),(2,1)]\n",
    "\n",
    "for i in range(len(l)):\n",
    "    for j in range(0,len(l)-i-1):\n",
    "        if l[j][j+1]>l[j+1][1]:\n",
    "            l[j],l[j+1]=l[j+1][j]\n",
    "print(l)"
   ]
  },
  {
   "cell_type": "code",
   "execution_count": 28,
   "id": "d3220d27",
   "metadata": {},
   "outputs": [
    {
     "name": "stdout",
     "output_type": "stream",
     "text": [
      "5\n",
      "j\n",
      "j\n",
      "j\n",
      "j\n",
      "0\n",
      "j\n",
      "j\n",
      "j\n",
      "1\n",
      "j\n",
      "j\n",
      "2\n",
      "j\n",
      "3\n",
      "4\n"
     ]
    }
   ],
   "source": [
    "list1 = [(2, 5), (1, 2), (4, 4), (2, 3), (2, 1)]\n",
    "print(len(list1)) ##5\n",
    "for i in range(len(list1)):\n",
    "    for j in range(len(list1) - i - 1):\n",
    "        print(\"j\")\n",
    "    print(i)"
   ]
  },
  {
   "cell_type": "code",
   "execution_count": null,
   "id": "15b321ee",
   "metadata": {},
   "outputs": [],
   "source": []
  },
  {
   "cell_type": "code",
   "execution_count": 16,
   "id": "f61d1088",
   "metadata": {},
   "outputs": [
    {
     "name": "stdout",
     "output_type": "stream",
     "text": [
      "[(2, 5), (1, 2), (4, 4), (2, 3), (2, 1)]\n",
      "4\n"
     ]
    }
   ],
   "source": [
    "l = [(2, 5), (1, 2), (4, 4), (2, 3), (2, 1)]\n",
    "print(l)\n",
    "print(l[2][0])"
   ]
  },
  {
   "cell_type": "code",
   "execution_count": 29,
   "id": "c28f4cd9",
   "metadata": {},
   "outputs": [
    {
     "name": "stdout",
     "output_type": "stream",
     "text": [
      "5\n",
      "[(2, 1), (1, 2), (2, 3), (4, 4), (2, 5)]\n"
     ]
    }
   ],
   "source": [
    "list1 = [(2, 5), (1, 2), (4, 4), (2, 3), (2, 1)]\n",
    "print(len(list1)) ##5\n",
    "for i in range(len(list1)):\n",
    "    for j in range(len(list1) - i - 1):\n",
    "        if list1[j][1] > list1[j + 1][1]:\n",
    "            list1[j], list1[j + 1] = list1[j + 1], list1[j]\n",
    "\n",
    "print(list1)\n"
   ]
  },
  {
   "cell_type": "code",
   "execution_count": 3,
   "id": "e6a798dd",
   "metadata": {},
   "outputs": [
    {
     "name": "stdout",
     "output_type": "stream",
     "text": [
      "5\n",
      "[(2, 1), (1, 2), (2, 3), (4, 4), (2, 5)]\n"
     ]
    }
   ],
   "source": [
    "l = [(2, 5), (1, 2), (4, 4), (2, 3), (2, 1)]\n",
    "for i in range(len(l)):\n",
    "    for j in range(i+1,len(l)):\n",
    "        if l[i][-1]>l[j][-1]:\n",
    "            l[i],l[j]=l[j],l[i]\n",
    "            \n",
    "print(l)"
   ]
  },
  {
   "cell_type": "code",
   "execution_count": 4,
   "id": "774d5e4c",
   "metadata": {},
   "outputs": [
    {
     "name": "stdout",
     "output_type": "stream",
     "text": [
      "\n",
      "        1. Push\n",
      "        2. Pop\n",
      "        3. Peek\n",
      "        4. Display\n",
      "        5. Exit\n",
      "    1\n",
      "Enter an elemet to insert:- 20\n",
      "[20]\n",
      "\n",
      "        1. Push\n",
      "        2. Pop\n",
      "        3. Peek\n",
      "        4. Display\n",
      "        5. Exit\n",
      "    1\n",
      "Enter an elemet to insert:- 30\n",
      "[20, 30]\n",
      "\n",
      "        1. Push\n",
      "        2. Pop\n",
      "        3. Peek\n",
      "        4. Display\n",
      "        5. Exit\n",
      "    1\n",
      "Enter an elemet to insert:- 50\n",
      "[20, 30, 50]\n",
      "\n",
      "        1. Push\n",
      "        2. Pop\n",
      "        3. Peek\n",
      "        4. Display\n",
      "        5. Exit\n",
      "    1\n",
      "Enter an elemet to insert:- 90\n",
      "[20, 30, 50, 90]\n",
      "\n",
      "        1. Push\n",
      "        2. Pop\n",
      "        3. Peek\n",
      "        4. Display\n",
      "        5. Exit\n",
      "    3\n",
      "Lasst element:-  90\n",
      "\n",
      "        1. Push\n",
      "        2. Pop\n",
      "        3. Peek\n",
      "        4. Display\n",
      "        5. Exit\n",
      "    2\n",
      "[20, 30, 50]\n",
      "\n",
      "        1. Push\n",
      "        2. Pop\n",
      "        3. Peek\n",
      "        4. Display\n",
      "        5. Exit\n",
      "    4\n",
      "Display List:-  [20, 30, 50]\n",
      "\n",
      "        1. Push\n",
      "        2. Pop\n",
      "        3. Peek\n",
      "        4. Display\n",
      "        5. Exit\n",
      "    5\n"
     ]
    }
   ],
   "source": [
    "l = []\n",
    "while True:\n",
    "    c = int(input('''\n",
    "        1. Push\n",
    "        2. Pop\n",
    "        3. Peek\n",
    "        4. Display\n",
    "        5. Exit\n",
    "    '''))\n",
    "    if c == 1:\n",
    "        n = int(input(\"Enter an elemet to insert:- \"))\n",
    "        l.append(n)\n",
    "        print(l)\n",
    "    elif c == 2:\n",
    "        if len(l)==0:\n",
    "            print(\"list is empty\", l)\n",
    "        else:\n",
    "            l.pop()\n",
    "            print(l)\n",
    "    elif c == 3:\n",
    "        if len(l)==0:\n",
    "            print(\"list is empty\", l)\n",
    "        else:\n",
    "            print(\"Last element:- \", l[-1])\n",
    "    elif c == 4:\n",
    "        print(\"Display List:- \", l)\n",
    "    elif c == 5:\n",
    "        break\n",
    "    else:\n",
    "        print(\"invalid input\")\n",
    "\n"
   ]
  },
  {
   "cell_type": "markdown",
   "id": "30ca2eea",
   "metadata": {},
   "source": [
    "1. enquee\n",
    "2. Dequee\n",
    "3. Front element \n",
    "4. Rear element\n",
    "5. Display\n",
    "6. Exit"
   ]
  },
  {
   "cell_type": "code",
   "execution_count": 10,
   "id": "0f166a24",
   "metadata": {},
   "outputs": [
    {
     "name": "stdout",
     "output_type": "stream",
     "text": [
      "\n",
      "        1. enquee\n",
      "        2. Dequee\n",
      "        3. Front element \n",
      "        4. Rear element\n",
      "        5. Display\n",
      "        6. Exit\n",
      "    1\n",
      "Enter element:- 20\n",
      "[20]\n",
      "\n",
      "        1. enquee\n",
      "        2. Dequee\n",
      "        3. Front element \n",
      "        4. Rear element\n",
      "        5. Display\n",
      "        6. Exit\n",
      "    1\n",
      "Enter element:- 40\n",
      "[20, 40]\n",
      "\n",
      "        1. enquee\n",
      "        2. Dequee\n",
      "        3. Front element \n",
      "        4. Rear element\n",
      "        5. Display\n",
      "        6. Exit\n",
      "    1\n",
      "Enter element:- 60\n",
      "[20, 40, 60]\n",
      "\n",
      "        1. enquee\n",
      "        2. Dequee\n",
      "        3. Front element \n",
      "        4. Rear element\n",
      "        5. Display\n",
      "        6. Exit\n",
      "    2\n",
      "[40, 60]\n",
      "\n",
      "        1. enquee\n",
      "        2. Dequee\n",
      "        3. Front element \n",
      "        4. Rear element\n",
      "        5. Display\n",
      "        6. Exit\n",
      "    3\n",
      "40\n",
      "\n",
      "        1. enquee\n",
      "        2. Dequee\n",
      "        3. Front element \n",
      "        4. Rear element\n",
      "        5. Display\n",
      "        6. Exit\n",
      "    4\n",
      "60\n",
      "\n",
      "        1. enquee\n",
      "        2. Dequee\n",
      "        3. Front element \n",
      "        4. Rear element\n",
      "        5. Display\n",
      "        6. Exit\n",
      "    5\n",
      "[40, 60]\n",
      "\n",
      "        1. enquee\n",
      "        2. Dequee\n",
      "        3. Front element \n",
      "        4. Rear element\n",
      "        5. Display\n",
      "        6. Exit\n",
      "    6\n"
     ]
    }
   ],
   "source": [
    "l=[]\n",
    "while True:\n",
    "    c=int(input('''\n",
    "        1. enquee\n",
    "        2. Dequee\n",
    "        3. Front element \n",
    "        4. Rear element\n",
    "        5. Display\n",
    "        6. Exit\n",
    "    '''))\n",
    "    \n",
    "    if c==1:\n",
    "        n=int(input(\"Enter element:- \"))\n",
    "        l.append(n)\n",
    "        print(l)\n",
    "    elif c==2:\n",
    "        if len(l)==0:\n",
    "            print(\"Quee is empty\")\n",
    "        else:\n",
    "            del l[0]\n",
    "            print(l)\n",
    "    elif c==3:\n",
    "        if len(l)==0:\n",
    "            print(\"Quee is empty\")\n",
    "        else:\n",
    "            print(\"Fornt Element is:-\",l[0])\n",
    "    elif c==4:\n",
    "        if len(l)==0:\n",
    "            print(\"quee is empyt.\")\n",
    "        else:\n",
    "            print(\"Last Element is:-\",l[-1])\n",
    "    elif c==5:\n",
    "        print(l)\n",
    "        \n",
    "    elif c==6:\n",
    "        break\n",
    "    else:\n",
    "        print(\"invalid input\")"
   ]
  },
  {
   "cell_type": "code",
   "execution_count": null,
   "id": "39da4979",
   "metadata": {},
   "outputs": [],
   "source": []
  }
 ],
 "metadata": {
  "kernelspec": {
   "display_name": "Python 3 (ipykernel)",
   "language": "python",
   "name": "python3"
  },
  "language_info": {
   "codemirror_mode": {
    "name": "ipython",
    "version": 3
   },
   "file_extension": ".py",
   "mimetype": "text/x-python",
   "name": "python",
   "nbconvert_exporter": "python",
   "pygments_lexer": "ipython3",
   "version": "3.11.5"
  }
 },
 "nbformat": 4,
 "nbformat_minor": 5
}
