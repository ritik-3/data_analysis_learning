{
 "cells": [
  {
   "cell_type": "code",
   "execution_count": 6,
   "id": "dbff9d02",
   "metadata": {},
   "outputs": [
    {
     "name": "stdout",
     "output_type": "stream",
     "text": [
      "how many term: 9\n",
      "0 1 1 2 3 5 8 13 21 "
     ]
    }
   ],
   "source": [
    "#fibionacci number\n",
    "\n",
    "a=0\n",
    "b=1\n",
    "n=int(input(\"how many term: \"))\n",
    "print(a,b,end=\" \")\n",
    "\n",
    "for i in range(2,n):\n",
    "    c=a+b\n",
    "    print(c,end=\" \")\n",
    "    a=b\n",
    "    b=c"
   ]
  },
  {
   "cell_type": "code",
   "execution_count": 12,
   "id": "32cc849f",
   "metadata": {},
   "outputs": [
    {
     "name": "stdout",
     "output_type": "stream",
     "text": [
      "how many term: 6\n",
      "0 1 1 2 3 5 "
     ]
    }
   ],
   "source": [
    "a=0\n",
    "b=1\n",
    "n=int(input(\"how many term: \"))\n",
    "print(a,b,end=\" \")\n",
    "i=2\n",
    "\n",
    "while i!=n:\n",
    "    c=a+b\n",
    "    print(c,end=\" \")\n",
    "    a=b\n",
    "    b=c\n",
    "    i=i+1"
   ]
  },
  {
   "cell_type": "code",
   "execution_count": 1,
   "id": "23f09d89",
   "metadata": {},
   "outputs": [
    {
     "name": "stdout",
     "output_type": "stream",
     "text": [
      "Enter a number: 153\n",
      "153 is armstrong.\n"
     ]
    }
   ],
   "source": [
    "#armstrong number\n",
    "n = int(input(\"Enter a number: \"))\n",
    "old=n\n",
    "arm=0\n",
    "a=len(str(n))\n",
    "\n",
    "while n!=0:\n",
    "    dig=n%10\n",
    "    arm=arm+(dig**a)\n",
    "    n=n//10\n",
    "\n",
    "if old==arm:\n",
    "    print(old,\"is armstrong.\")\n",
    "else:\n",
    "    print(old, \"is not armstrong.\")"
   ]
  },
  {
   "cell_type": "code",
   "execution_count": 2,
   "id": "bead8cdb",
   "metadata": {},
   "outputs": [
    {
     "name": "stdout",
     "output_type": "stream",
     "text": [
      "Enter a number: 8208\n",
      "8208\n",
      "8208 is armstrong.\n"
     ]
    }
   ],
   "source": [
    "#armstrong number\n",
    "n = int(input(\"Enter a number: \"))\n",
    "old=n\n",
    "arm=0\n",
    "a=len(str(n))\n",
    "for i in range(a):\n",
    "    dig=n%10\n",
    "    arm=arm+(dig**a)\n",
    "    n=n//10\n",
    "\n",
    "print(arm)\n",
    "if old==arm:\n",
    "    print(old,\"is armstrong.\")\n",
    "else:\n",
    "    print(old, \"is not armstrong.\")"
   ]
  },
  {
   "cell_type": "code",
   "execution_count": 1,
   "id": "e8ca20fd",
   "metadata": {},
   "outputs": [
    {
     "name": "stdout",
     "output_type": "stream",
     "text": [
      "Move disk 5 from A to C\n",
      "Move disk 4 from A to B\n",
      "Move disk 3 from A to C\n",
      "Move disk 2 from A to B\n",
      "Move disk 1 from A to C\n",
      "Move disk 1 from C to B\n",
      "Move disk 2 from B to C\n",
      "Move disk 1 from B to A\n",
      "Move disk 1 from A to C\n",
      "Move disk 3 from C to B\n",
      "Move disk 2 from C to A\n",
      "Move disk 1 from C to B\n",
      "Move disk 1 from B to A\n",
      "Move disk 2 from A to B\n",
      "Move disk 1 from A to C\n",
      "Move disk 1 from C to B\n",
      "Move disk 4 from B to C\n",
      "Move disk 3 from B to A\n",
      "Move disk 2 from B to C\n",
      "Move disk 1 from B to A\n",
      "Move disk 1 from A to C\n",
      "Move disk 2 from C to A\n",
      "Move disk 1 from C to B\n",
      "Move disk 1 from B to A\n",
      "Move disk 3 from A to C\n",
      "Move disk 2 from A to B\n",
      "Move disk 1 from A to C\n",
      "Move disk 1 from C to B\n",
      "Move disk 2 from B to C\n",
      "Move disk 1 from B to A\n",
      "Move disk 1 from A to C\n"
     ]
    }
   ],
   "source": [
    "num_disks = int(input(\"Enter the number of disks: \"))\n",
    "\n",
    "source = 'A'\n",
    "aux = 'B'\n",
    "target = 'C'\n",
    "\n",
    "stack=[(num_disks, source , aux , target)]\n",
    "\n",
    "while stack:\n",
    "    n,source,aux,target=stack.pop()\n",
    "    \n",
    "    if n==1:\n",
    "        print(f\"Move disk {n} from {source} to {target}\")\n",
    "    else:\n",
    "        stack.append((n-1,aux,source,target))\n",
    "        print(f\"Move disk {n} from {source} to {target}\")\n",
    "        stack.append((n-1,source,target,aux))"
   ]
  },
  {
   "cell_type": "code",
   "execution_count": null,
   "id": "18bbd8bf",
   "metadata": {},
   "outputs": [],
   "source": []
  }
 ],
 "metadata": {
  "kernelspec": {
   "display_name": "Python 3 (ipykernel)",
   "language": "python",
   "name": "python3"
  },
  "language_info": {
   "codemirror_mode": {
    "name": "ipython",
    "version": 3
   },
   "file_extension": ".py",
   "mimetype": "text/x-python",
   "name": "python",
   "nbconvert_exporter": "python",
   "pygments_lexer": "ipython3",
   "version": "3.10.11"
  }
 },
 "nbformat": 4,
 "nbformat_minor": 5
}
