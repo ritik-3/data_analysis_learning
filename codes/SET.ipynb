{
 "cells": [
  {
   "cell_type": "markdown",
   "id": "1ac5f8cc",
   "metadata": {},
   "source": [
    "# set( )\n",
    "{ } with comma seprated value.\n",
    "\n",
    "Unordered sequence.\n",
    "\n",
    "unindex\n",
    "\n",
    "Unique elements\n",
    "\n",
    "mutable\n"
   ]
  },
  {
   "cell_type": "markdown",
   "id": "7fccd4f4",
   "metadata": {},
   "source": [
    "add, remove, discard, pop, update, clear\n"
   ]
  },
  {
   "cell_type": "code",
   "execution_count": 1,
   "id": "91769aa3",
   "metadata": {},
   "outputs": [
    {
     "name": "stdout",
     "output_type": "stream",
     "text": [
      "40\n",
      "10\n",
      "20\n",
      "30\n"
     ]
    }
   ],
   "source": [
    "s={10,20,30,40}\n",
    "for i in s:\n",
    "    print(i)"
   ]
  },
  {
   "cell_type": "code",
   "execution_count": 30,
   "id": "b143e684",
   "metadata": {},
   "outputs": [
    {
     "name": "stdout",
     "output_type": "stream",
     "text": [
      "{40, 10, 50, 20, 30}\n",
      "set()\n"
     ]
    }
   ],
   "source": [
    "l=[10,20,30,40,50,10,10]\n",
    "print(set(l))\n",
    "print(set()) #empty set"
   ]
  },
  {
   "cell_type": "code",
   "execution_count": 31,
   "id": "0d53b5d5",
   "metadata": {},
   "outputs": [
    {
     "name": "stdout",
     "output_type": "stream",
     "text": [
      "{70, 40, 10, 60}\n",
      "{70, 10, 60}\n",
      "{70, 10, 60}\n"
     ]
    }
   ],
   "source": [
    "s={40,50,60,10,70}\n",
    "s.remove(50)       #can not give unknown value---> returns errror\n",
    "print(s)\n",
    "\n",
    "s.discard(40)\n",
    "print(s)\n",
    "\n",
    "s.discard(100) #can give unknown value\n",
    "print(s)"
   ]
  },
  {
   "cell_type": "code",
   "execution_count": 15,
   "id": "a42b6839",
   "metadata": {},
   "outputs": [
    {
     "name": "stdout",
     "output_type": "stream",
     "text": [
      "80\n",
      "{34, 90, 40, 10, 60}\n"
     ]
    }
   ],
   "source": [
    "#pop\n",
    "\n",
    "s={40,10,90,80,60,34}\n",
    "print(s.pop())\n",
    "print(s)"
   ]
  },
  {
   "cell_type": "code",
   "execution_count": 26,
   "id": "ed95be0d",
   "metadata": {},
   "outputs": [
    {
     "name": "stdout",
     "output_type": "stream",
     "text": [
      "{34, 90, 40, 10, 60, 200}\n"
     ]
    }
   ],
   "source": [
    "#add\n",
    "\n",
    "s={10, 34, 40, 60, 90}\n",
    "s.add(200)\n",
    "print(s)"
   ]
  },
  {
   "cell_type": "code",
   "execution_count": 29,
   "id": "55bff81d",
   "metadata": {},
   "outputs": [
    {
     "name": "stdout",
     "output_type": "stream",
     "text": [
      "set()\n"
     ]
    }
   ],
   "source": [
    "#clear\n",
    "\n",
    "s={10, 34, 40, 60, 90}\n",
    "s.clear()\n",
    "print(s)"
   ]
  },
  {
   "cell_type": "code",
   "execution_count": 41,
   "id": "a5096d48",
   "metadata": {},
   "outputs": [
    {
     "name": "stdout",
     "output_type": "stream",
     "text": [
      "{'o', 10, 'tech', '0', 20, 30, 'p', 'l', 40, '1', 50, 'e', 'h'}\n"
     ]
    }
   ],
   "source": [
    "#update\n",
    "\n",
    "s={10,20,30,40,'tech'}\n",
    "s.update('hello','op','100',[10,20,50])\n",
    "print(s)\n"
   ]
  },
  {
   "cell_type": "code",
   "execution_count": 46,
   "id": "2b89e98a",
   "metadata": {},
   "outputs": [
    {
     "name": "stdout",
     "output_type": "stream",
     "text": [
      "Union {0, 1, 2, 3, 4, 5, 6}\n",
      "union {0, 1, 2, 3, 4, 5, 6}\n",
      "intercection {1, 2, 3, 4}\n",
      "difference {0} {5, 6}\n",
      "symmetric difference {0, 5, 6}\n"
     ]
    }
   ],
   "source": [
    "s1={0,1,2,3,4}\n",
    "s2={1,2,3,4,5,6}\n",
    "\n",
    "print(\"Union\", s1|s2)\n",
    "print(\"union\", s1.union(s2))\n",
    "\n",
    "print(\"intercection\", s1&s2)\n",
    "\n",
    "print(\"difference\", s1-s2,s2-s1)\n",
    "\n",
    "print(\"symmetric difference\", s1^s2)"
   ]
  },
  {
   "cell_type": "code",
   "execution_count": 52,
   "id": "059bb16e",
   "metadata": {},
   "outputs": [
    {
     "name": "stdout",
     "output_type": "stream",
     "text": [
      "{'C', 'D', 'A', 'G'}\n",
      "{'G', 'D', 'C', 'A'}\n"
     ]
    }
   ],
   "source": [
    "student={'A','B','C','D','E','F','G'}\n",
    "placed={'B','F','E'}\n",
    "\n",
    "print(student^placed)\n",
    "print(student-placed)\n"
   ]
  },
  {
   "cell_type": "markdown",
   "id": "79e8ecff",
   "metadata": {},
   "source": [
    "## Frozen Set\n",
    "almost same as set but its immutable(means elements can not be addd remove)\n",
    "\n",
    "issuperset()\n",
    "\n",
    "issubset()\n",
    "\n",
    "isdisjoint()"
   ]
  },
  {
   "cell_type": "code",
   "execution_count": 2,
   "id": "b579f2ab",
   "metadata": {},
   "outputs": [
    {
     "name": "stdout",
     "output_type": "stream",
     "text": [
      "{False, True, 'hello', 20, 10, 30}\n"
     ]
    }
   ],
   "source": [
    "s={10,20,30,\"hello\",True,False,1} #here 1 is consider as True, same 0 as Flase (Preference to True)\n",
    "print(s)"
   ]
  },
  {
   "cell_type": "code",
   "execution_count": 7,
   "id": "f0d8540c",
   "metadata": {},
   "outputs": [
    {
     "name": "stdout",
     "output_type": "stream",
     "text": [
      "True\n",
      "False\n"
     ]
    }
   ],
   "source": [
    "s={1,2,3,4,5,6,7}\n",
    "s1=(1,2,3)\n",
    "print(s.issuperset(s1))\n",
    "s2=(1,2,3,10)\n",
    "print(s.issuperset(s2))"
   ]
  },
  {
   "cell_type": "code",
   "execution_count": 9,
   "id": "e21f73ae",
   "metadata": {},
   "outputs": [
    {
     "name": "stdout",
     "output_type": "stream",
     "text": [
      "True\n"
     ]
    }
   ],
   "source": [
    "s={1,2,3,4,5,6,7}\n",
    "s1={1,2,3}\n",
    "print(s1.issubset(s))"
   ]
  },
  {
   "cell_type": "code",
   "execution_count": 13,
   "id": "baeecb3e",
   "metadata": {},
   "outputs": [
    {
     "name": "stdout",
     "output_type": "stream",
     "text": [
      "True\n"
     ]
    }
   ],
   "source": [
    "s1={\"a\",\"b\",\"c\"}\n",
    "s2={\"d\",\"e\",\"f\"}\n",
    "print(s1.isdisjoint(s2))"
   ]
  },
  {
   "cell_type": "code",
   "execution_count": 14,
   "id": "f4c48a9f",
   "metadata": {},
   "outputs": [
    {
     "ename": "TypeError",
     "evalue": "unhashable type: 'set'",
     "output_type": "error",
     "traceback": [
      "\u001b[1;31m---------------------------------------------------------------------------\u001b[0m",
      "\u001b[1;31mTypeError\u001b[0m                                 Traceback (most recent call last)",
      "Cell \u001b[1;32mIn[14], line 1\u001b[0m\n\u001b[1;32m----> 1\u001b[0m s\u001b[38;5;241m=\u001b[39m{\u001b[38;5;241m1\u001b[39m,\u001b[38;5;241m2\u001b[39m,\u001b[38;5;241m3\u001b[39m,{\u001b[38;5;124m\"\u001b[39m\u001b[38;5;124mhello\u001b[39m\u001b[38;5;124m\"\u001b[39m},\u001b[38;5;241m100\u001b[39m}\n\u001b[0;32m      2\u001b[0m \u001b[38;5;28mprint\u001b[39m(s)\n",
      "\u001b[1;31mTypeError\u001b[0m: unhashable type: 'set'"
     ]
    }
   ],
   "source": [
    "s={1,2,3,{\"hello\"},100}\n",
    "print(s)"
   ]
  },
  {
   "cell_type": "code",
   "execution_count": 16,
   "id": "8e764d66",
   "metadata": {},
   "outputs": [
    {
     "name": "stdout",
     "output_type": "stream",
     "text": [
      "frozenset({40, 10, 20, 30}) <class 'frozenset'>\n",
      "frozenset({40, 10, 20, 30}) <class 'frozenset'>\n",
      "frozenset({40, 10, 20, 30}) <class 'frozenset'>\n",
      "frozenset({'h', 'l', 'e', 'o'}) <class 'frozenset'>\n"
     ]
    }
   ],
   "source": [
    "s={10,20,30,40}\n",
    "l=[10,20,30,40]\n",
    "t=(10,20,30,40)\n",
    "s_t=\"hello\"\n",
    "\n",
    "f_s=frozenset(s)\n",
    "print(f_s, type(f_s))\n",
    "\n",
    "f_s=frozenset(l)\n",
    "print(f_s, type(f_s))\n",
    "\n",
    "f_s=frozenset(t)\n",
    "print(f_s, type(f_s))\n",
    "\n",
    "f_s=frozenset(s_t)\n",
    "print(f_s, type(f_s))"
   ]
  },
  {
   "cell_type": "code",
   "execution_count": null,
   "id": "adf1cb54",
   "metadata": {},
   "outputs": [],
   "source": []
  }
 ],
 "metadata": {
  "kernelspec": {
   "display_name": "Python 3 (ipykernel)",
   "language": "python",
   "name": "python3"
  },
  "language_info": {
   "codemirror_mode": {
    "name": "ipython",
    "version": 3
   },
   "file_extension": ".py",
   "mimetype": "text/x-python",
   "name": "python",
   "nbconvert_exporter": "python",
   "pygments_lexer": "ipython3",
   "version": "3.11.5"
  }
 },
 "nbformat": 4,
 "nbformat_minor": 5
}
