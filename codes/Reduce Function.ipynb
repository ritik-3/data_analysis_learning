{
 "cells": [
  {
   "cell_type": "markdown",
   "id": "e4353d3f",
   "metadata": {},
   "source": [
    "# Reduce () Function\n",
    "\n",
    "its a funtion of module \"functool\".\n",
    "\n",
    "The reduce(fun,seq) function is used to apply a particular function passed in its argument to all of the list elements mentioned in the sequence passed along.\n",
    "\n",
    "This function is defined in “functools” module.\n",
    "\n",
    "syntax:- reduce(function,sequence,[initial value])"
   ]
  },
  {
   "cell_type": "code",
   "execution_count": 4,
   "id": "b1f79ae1",
   "metadata": {},
   "outputs": [
    {
     "name": "stdout",
     "output_type": "stream",
     "text": [
      "15\n"
     ]
    }
   ],
   "source": [
    "from functools import reduce\n",
    "l=[1,2,3,4,5]\n",
    "print(reduce(lambda i,j:i+j,l))"
   ]
  },
  {
   "cell_type": "code",
   "execution_count": 5,
   "id": "56e17737",
   "metadata": {},
   "outputs": [
    {
     "name": "stdout",
     "output_type": "stream",
     "text": [
      "25\n"
     ]
    }
   ],
   "source": [
    "from functools import reduce\n",
    "l=[1,2,3,4,5]\n",
    "print(reduce(lambda i,j:i+j,l,10))"
   ]
  },
  {
   "cell_type": "code",
   "execution_count": 14,
   "id": "a07d8002",
   "metadata": {},
   "outputs": [
    {
     "name": "stdout",
     "output_type": "stream",
     "text": [
      "min -90\n"
     ]
    }
   ],
   "source": [
    "l=[100,90,-90,100,24,987]\n",
    "#min\n",
    "print(\"min\",reduce(lambda i,j: i if i<j else j,l))"
   ]
  },
  {
   "cell_type": "code",
   "execution_count": 15,
   "id": "348293d9",
   "metadata": {},
   "outputs": [
    {
     "name": "stdout",
     "output_type": "stream",
     "text": [
      "max 987\n"
     ]
    }
   ],
   "source": [
    "l=[100,90,-90,100,24,987]\n",
    "#max\n",
    "print(\"max\",reduce(lambda i,j: i if i>j else j,l))"
   ]
  },
  {
   "cell_type": "code",
   "execution_count": 33,
   "id": "0f8236ff",
   "metadata": {},
   "outputs": [
    {
     "name": "stdout",
     "output_type": "stream",
     "text": [
      "max 987\n"
     ]
    }
   ],
   "source": [
    "l=[100,90,-90,100,24,987]\n",
    "def max(i,j):\n",
    "    if i>j:\n",
    "        return i\n",
    "    else:\n",
    "        return j\n",
    "print(\"max\",reduce(max,l))"
   ]
  },
  {
   "cell_type": "code",
   "execution_count": null,
   "id": "f6586992",
   "metadata": {},
   "outputs": [],
   "source": [
    "#H.W.\n"
   ]
  },
  {
   "cell_type": "code",
   "execution_count": null,
   "id": "cc74e873",
   "metadata": {},
   "outputs": [],
   "source": []
  }
 ],
 "metadata": {
  "kernelspec": {
   "display_name": "Python 3 (ipykernel)",
   "language": "python",
   "name": "python3"
  },
  "language_info": {
   "codemirror_mode": {
    "name": "ipython",
    "version": 3
   },
   "file_extension": ".py",
   "mimetype": "text/x-python",
   "name": "python",
   "nbconvert_exporter": "python",
   "pygments_lexer": "ipython3",
   "version": "3.11.5"
  }
 },
 "nbformat": 4,
 "nbformat_minor": 5
}
