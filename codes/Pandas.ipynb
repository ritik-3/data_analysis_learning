{
 "cells": [
  {
   "cell_type": "markdown",
   "id": "71630304",
   "metadata": {},
   "source": [
    "# EDA\n",
    "\n",
    "Exploratory Data Analysis\n",
    "\n",
    "Inspect|Clean|Transform|Analysis/Modling"
   ]
  },
  {
   "cell_type": "markdown",
   "id": "e92f564f",
   "metadata": {},
   "source": [
    "1) serise-One dimensional \n",
    "2) Data Frame-Two dimensional\n",
    "3) Panel-Three Dimensional\n"
   ]
  },
  {
   "cell_type": "markdown",
   "id": "67910b0b",
   "metadata": {},
   "source": [
    "File Type\n",
    "Excel,.sql,csv,xml,json,pauquet."
   ]
  },
  {
   "cell_type": "code",
   "execution_count": 3,
   "id": "32122f75",
   "metadata": {},
   "outputs": [
    {
     "name": "stdout",
     "output_type": "stream",
     "text": [
      "0    1\n",
      "1    2\n",
      "2    3\n",
      "3    4\n",
      "dtype: int64\n"
     ]
    }
   ],
   "source": [
    "import pandas as pd\n",
    "l=[1,2,3,4]\n",
    "s=pd.Series(l)\n",
    "print(s)"
   ]
  },
  {
   "cell_type": "code",
   "execution_count": 12,
   "id": "3ca3d4da",
   "metadata": {},
   "outputs": [
    {
     "name": "stdout",
     "output_type": "stream",
     "text": [
      "a    1.0\n",
      "b    2.0\n",
      "c    3.0\n",
      "d    4.0\n",
      "dtype: float64\n",
      "<class 'pandas.core.series.Series'>\n"
     ]
    }
   ],
   "source": [
    "import pandas as pd\n",
    "l=[1,2,3,4]\n",
    "s=pd.Series(l,index=[\"a\",\"b\",\"c\",\"d\"],dtype=\"float\")\n",
    "print(s)\n",
    "print(type(s))"
   ]
  },
  {
   "cell_type": "code",
   "execution_count": 17,
   "id": "36ab83e0",
   "metadata": {},
   "outputs": [
    {
     "name": "stdout",
     "output_type": "stream",
     "text": [
      "l1    [1, 2, 3, 4]\n",
      "l2    [5, 6, 7, 8]\n",
      "dtype: object\n",
      "   l1  l2\n",
      "0   1   5\n",
      "1   2   6\n",
      "2   3   7\n",
      "3   4   8\n"
     ]
    }
   ],
   "source": [
    "import pandas as pd\n",
    "d={\"l1\":[1,2,3,4],\"l2\":[5,6,7,8]}\n",
    "s=pd.Series(d)\n",
    "s1=pd.DataFrame(d)\n",
    "print(s)\n",
    "print(s1)\n"
   ]
  },
  {
   "cell_type": "code",
   "execution_count": 15,
   "id": "651f7cdb",
   "metadata": {},
   "outputs": [
    {
     "name": "stdout",
     "output_type": "stream",
     "text": [
      "0    6.0\n",
      "1    8.0\n",
      "2    NaN\n",
      "3    NaN\n",
      "dtype: float64\n"
     ]
    }
   ],
   "source": [
    "s1=pd.Series([1,2,3,5])\n",
    "s2=pd.Series([5,6])\n",
    "print(s1+s2)"
   ]
  },
  {
   "cell_type": "code",
   "execution_count": 30,
   "id": "41a7c382",
   "metadata": {},
   "outputs": [
    {
     "name": "stdout",
     "output_type": "stream",
     "text": [
      "  name city\n",
      "0    a  bpl\n",
      "1    b  ind\n",
      "2    c  gwl\n",
      "\n",
      "0    a\n",
      "1    b\n",
      "2    c\n",
      "Name: name, dtype: object\n",
      "\n",
      "1    b\n",
      "2    c\n",
      "Name: name, dtype: object\n"
     ]
    }
   ],
   "source": [
    "disc={\n",
    "    \"name\":[\"a\",\"b\",\"c\"],\n",
    "    \"city\":[\"bpl\",\"ind\",\"gwl\"]\n",
    "}\n",
    "df=pd.DataFrame(disc)\n",
    "print(df)\n",
    "print()\n",
    "print(df[\"name\"])\n",
    "print()\n",
    "print(df[\"name\"][1:3])"
   ]
  },
  {
   "cell_type": "markdown",
   "id": "94d73ed5",
   "metadata": {},
   "source": [
    "df=file location\n",
    "\n",
    "df.head\n",
    "\n",
    "df.tail\n",
    "\n",
    "df.describe\n",
    "\n",
    "df.info\n",
    "\n"
   ]
  },
  {
   "cell_type": "code",
   "execution_count": 3,
   "id": "bb138201",
   "metadata": {},
   "outputs": [
    {
     "name": "stdout",
     "output_type": "stream",
     "text": [
      "  name  Age\n",
      "0  Abc   21\n",
      "1  Def   22\n",
      "2  Efg   23\n"
     ]
    }
   ],
   "source": [
    "import pandas as pd\n",
    "desc={\n",
    "    \"name\":[\"Abc\",\"Def\",\"Efg\"],\n",
    "    \"Age\":[21,22,23]\n",
    "}\n",
    "df=pd.DataFrame(desc)\n",
    "print(df)\n"
   ]
  },
  {
   "cell_type": "code",
   "execution_count": 4,
   "id": "46fa7ee2",
   "metadata": {},
   "outputs": [],
   "source": [
    "df.to_csv(\"D:\\Cybrom\\Python\\Pandas\\data.csv\")"
   ]
  },
  {
   "cell_type": "code",
   "execution_count": 5,
   "id": "aae22c02",
   "metadata": {},
   "outputs": [],
   "source": [
    "df.to_csv(\"data.csv\")"
   ]
  },
  {
   "cell_type": "code",
   "execution_count": null,
   "id": "3b050e6c",
   "metadata": {},
   "outputs": [],
   "source": []
  }
 ],
 "metadata": {
  "kernelspec": {
   "display_name": "Python 3 (ipykernel)",
   "language": "python",
   "name": "python3"
  },
  "language_info": {
   "codemirror_mode": {
    "name": "ipython",
    "version": 3
   },
   "file_extension": ".py",
   "mimetype": "text/x-python",
   "name": "python",
   "nbconvert_exporter": "python",
   "pygments_lexer": "ipython3",
   "version": "3.11.5"
  }
 },
 "nbformat": 4,
 "nbformat_minor": 5
}
