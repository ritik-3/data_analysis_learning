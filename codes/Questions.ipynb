{
 "cells": [
  {
   "cell_type": "code",
   "execution_count": 32,
   "id": "28d09586",
   "metadata": {},
   "outputs": [
    {
     "name": "stdout",
     "output_type": "stream",
     "text": [
      "10\n",
      "total 55\n",
      "mean 5.5\n",
      "median 5.5\n"
     ]
    }
   ],
   "source": [
    "num=[1,2,3,4,5,6,7,8,9,10]\n",
    "t=len(num)\n",
    "print(t)\n",
    "total=0\n",
    "for i in num:\n",
    "    total+=i\n",
    "\n",
    "print(\"total\",total)\n",
    "mean=total/t\n",
    "print(\"mean\",mean)\n",
    "\n",
    "if t%2==0:\n",
    "    median = (num[t//2-1]+num[t//2])/2\n",
    "else:\n",
    "    median =num[t//2]\n",
    "print(\"median\",median)\n",
    "\n"
   ]
  },
  {
   "cell_type": "code",
   "execution_count": null,
   "id": "1c860d78",
   "metadata": {},
   "outputs": [],
   "source": []
  }
 ],
 "metadata": {
  "kernelspec": {
   "display_name": "Python 3 (ipykernel)",
   "language": "python",
   "name": "python3"
  },
  "language_info": {
   "codemirror_mode": {
    "name": "ipython",
    "version": 3
   },
   "file_extension": ".py",
   "mimetype": "text/x-python",
   "name": "python",
   "nbconvert_exporter": "python",
   "pygments_lexer": "ipython3",
   "version": "3.11.5"
  }
 },
 "nbformat": 4,
 "nbformat_minor": 5
}
