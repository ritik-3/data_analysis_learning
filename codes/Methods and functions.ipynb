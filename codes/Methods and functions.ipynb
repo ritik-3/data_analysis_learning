{
 "cells": [
  {
   "cell_type": "code",
   "execution_count": 13,
   "id": "34474d9b",
   "metadata": {},
   "outputs": [
    {
     "name": "stdout",
     "output_type": "stream",
     "text": [
      "y\n",
      " \n",
      "17\n"
     ]
    }
   ],
   "source": [
    "a=\"welcome to cybrom\"\n",
    "print(max(a))\n",
    "print(min(a))\n",
    "print(len(a))"
   ]
  },
  {
   "cell_type": "code",
   "execution_count": 22,
   "id": "5d3db04d",
   "metadata": {},
   "outputs": [
    {
     "name": "stdout",
     "output_type": "stream",
     "text": [
      "WELCOME TO CYBROM\n",
      "Welcome To Cybrom\n",
      "Welcome to cybrom\n",
      "2\n",
      "13\n",
      "13\n"
     ]
    }
   ],
   "source": [
    "print(a.upper())\n",
    "print(a.title())\n",
    "print(a.capitalize())\n",
    "print(a.count(\" \"))\n",
    "print(a.find(\"b\"))\n",
    "print(a.index(\"b\",2))"
   ]
  },
  {
   "cell_type": "code",
   "execution_count": 29,
   "id": "4904e4e1",
   "metadata": {},
   "outputs": [
    {
     "name": "stdout",
     "output_type": "stream",
     "text": [
      "False\n",
      "True\n",
      "False\n",
      "True\n"
     ]
    }
   ],
   "source": [
    "print(a.isdigit())\n",
    "b=\"123\"\n",
    "print(b.isdigit())\n",
    "print(a.isalpha())\n",
    "print(b.isalnum())"
   ]
  },
  {
   "cell_type": "code",
   "execution_count": 38,
   "id": "e4762287",
   "metadata": {},
   "outputs": [
    {
     "name": "stdout",
     "output_type": "stream",
     "text": [
      "alpha 19 digit 6 special 4\n"
     ]
    }
   ],
   "source": [
    "a=\"welcom#@e23to87ci//ty90oflake\"\n",
    "alpha=0\n",
    "digit=0\n",
    "special=0\n",
    "for i in a:\n",
    "    if i.isalpha():\n",
    "        alpha+=1\n",
    "    elif i.isdigit():\n",
    "        digit+=1\n",
    "    else:\n",
    "        special+=1\n",
    "        \n",
    "print(\"alpha\", alpha, \"digit\",digit,\"special\",special)\n"
   ]
  },
  {
   "cell_type": "code",
   "execution_count": 7,
   "id": "b56c339e",
   "metadata": {},
   "outputs": [
    {
     "name": "stdout",
     "output_type": "stream",
     "text": [
      "4\n",
      "-1\n",
      "4\n"
     ]
    }
   ],
   "source": [
    "a = \"welcome to city of lakes\"\n",
    "print(a.find(\"o\"))\n",
    "##find gives first occurance of the substirng \n",
    "\n",
    "print(a.find(\"z\"))\n",
    "print(a.index(\"o\"))\n",
    "##index gives index of any perticuar\n",
    "\n",
    "###diffrent btw index and find is ,when value not found index returns error whereas find returns \"-1\"."
   ]
  },
  {
   "cell_type": "code",
   "execution_count": 49,
   "id": "cb2c029e",
   "metadata": {},
   "outputs": [
    {
     "name": "stdout",
     "output_type": "stream",
     "text": [
      "0\n",
      "This is string.\n"
     ]
    }
   ],
   "source": [
    "print(a.count(\"e\"))\n",
    "print(a.replace(\"e\",\"a\",1)) \n",
    "##(variable.replace(\"what to replace\", \"by what its replaced\", how many replaced form the start))"
   ]
  },
  {
   "cell_type": "code",
   "execution_count": 50,
   "id": "8d5f5383",
   "metadata": {},
   "outputs": [
    {
     "name": "stdout",
     "output_type": "stream",
     "text": [
      "2\n",
      "2\n",
      "5\n",
      "11\n"
     ]
    }
   ],
   "source": [
    "a= \"This is string.\"\n",
    "print(a.find(\"i\"))\n",
    "print(a.index(\"i\"))\n",
    "print(a.index(\"i\", 3))\n",
    "print(a.index(\"i\", 6))"
   ]
  },
  {
   "cell_type": "code",
   "execution_count": 51,
   "id": "1017a424",
   "metadata": {},
   "outputs": [
    {
     "name": "stdout",
     "output_type": "stream",
     "text": [
      "3\n"
     ]
    }
   ],
   "source": [
    "print(a.count(\"i\"))"
   ]
  },
  {
   "cell_type": "code",
   "execution_count": 53,
   "id": "97b2da6c",
   "metadata": {},
   "outputs": [
    {
     "name": "stdout",
     "output_type": "stream",
     "text": [
      "['This', 'is', 'string.']\n"
     ]
    }
   ],
   "source": [
    "b=a.split()\n",
    "print(b)"
   ]
  },
  {
   "cell_type": "code",
   "execution_count": 54,
   "id": "bbb3aeb1",
   "metadata": {},
   "outputs": [
    {
     "name": "stdout",
     "output_type": "stream",
     "text": [
      "This is string.\n"
     ]
    }
   ],
   "source": [
    "print(\" \".join(b))"
   ]
  },
  {
   "cell_type": "code",
   "execution_count": 55,
   "id": "9441d981",
   "metadata": {},
   "outputs": [
    {
     "name": "stdout",
     "output_type": "stream",
     "text": [
      "This not is not string.\n"
     ]
    }
   ],
   "source": [
    "print(a.replace(\"is\",\"is not\"))"
   ]
  },
  {
   "cell_type": "code",
   "execution_count": 58,
   "id": "8f440ccf",
   "metadata": {},
   "outputs": [
    {
     "name": "stdout",
     "output_type": "stream",
     "text": [
      "z\n",
      ",\n"
     ]
    }
   ],
   "source": [
    "a = [\"a\",\"b\",\"A\",\"z\",\",\"]\n",
    "print(max(a))\n",
    "print(min(a))"
   ]
  },
  {
   "cell_type": "code",
   "execution_count": 60,
   "id": "b817d62c",
   "metadata": {},
   "outputs": [
    {
     "ename": "TypeError",
     "evalue": "unsupported operand type(s) for +: 'int' and 'str'",
     "output_type": "error",
     "traceback": [
      "\u001b[1;31m---------------------------------------------------------------------------\u001b[0m",
      "\u001b[1;31mTypeError\u001b[0m                                 Traceback (most recent call last)",
      "Cell \u001b[1;32mIn[60], line 2\u001b[0m\n\u001b[0;32m      1\u001b[0m l\u001b[38;5;241m=\u001b[39m[\u001b[38;5;124m\"\u001b[39m\u001b[38;5;124mhello\u001b[39m\u001b[38;5;124m\"\u001b[39m,\u001b[38;5;124m\"\u001b[39m\u001b[38;5;124mj\u001b[39m\u001b[38;5;124m\"\u001b[39m]\n\u001b[1;32m----> 2\u001b[0m \u001b[38;5;28mprint\u001b[39m(\u001b[38;5;28msum\u001b[39m(l))\n",
      "\u001b[1;31mTypeError\u001b[0m: unsupported operand type(s) for +: 'int' and 'str'"
     ]
    }
   ],
   "source": [
    "l=[\"hello\",\"j\"]\n",
    "print(sum(l))"
   ]
  },
  {
   "cell_type": "code",
   "execution_count": 5,
   "id": "a224982b",
   "metadata": {},
   "outputs": [
    {
     "name": "stdout",
     "output_type": "stream",
     "text": [
      "9\n"
     ]
    }
   ],
   "source": [
    "l=[2,3,4]\n",
    "print(sum(l))"
   ]
  },
  {
   "cell_type": "code",
   "execution_count": 2,
   "id": "fa075bcc",
   "metadata": {},
   "outputs": [
    {
     "name": "stdout",
     "output_type": "stream",
     "text": [
      "40\n",
      "[10, 20, 30, 40, 40]\n"
     ]
    }
   ],
   "source": [
    "l=[10,20,30,40,40,40]\n",
    "print(l.pop(3))\n",
    "print(l)"
   ]
  },
  {
   "cell_type": "code",
   "execution_count": 3,
   "id": "4cb00a67",
   "metadata": {},
   "outputs": [
    {
     "name": "stdout",
     "output_type": "stream",
     "text": [
      "[10, 20, 30, 40, 40]\n"
     ]
    }
   ],
   "source": [
    "l=[10,20,30,40,40,40]\n",
    "l.remove(40)\n",
    "print(l)"
   ]
  },
  {
   "cell_type": "code",
   "execution_count": 4,
   "id": "4c4a7d74",
   "metadata": {},
   "outputs": [
    {
     "name": "stdout",
     "output_type": "stream",
     "text": [
      "[]\n"
     ]
    }
   ],
   "source": [
    "l=[10,20,30,40,40,40]\n",
    "l.clear()\n",
    "print(l)"
   ]
  },
  {
   "cell_type": "code",
   "execution_count": 7,
   "id": "b73dea7f",
   "metadata": {},
   "outputs": [
    {
     "name": "stdout",
     "output_type": "stream",
     "text": [
      "[20, 30, 40, 40, 40]\n"
     ]
    }
   ],
   "source": [
    "l=[10,20,30,40,40,40]\n",
    "del l[0]\n",
    "print(l)"
   ]
  },
  {
   "cell_type": "markdown",
   "id": "2c815615",
   "metadata": {},
   "source": [
    "POP:- removes elemet by indexing, can print while removing, if no parameter is passed then it removes last element of the list.\n",
    "\n",
    "Del:- element can not be printed/return while deleting the element.\n",
    "\n",
    "REMOVE:- element can only be removed using its value i:e \"string\" 'INT'.\n",
    "\n",
    "CLEAR:- its deletes the whole list, returning an empty list.\n"
   ]
  },
  {
   "cell_type": "markdown",
   "id": "84fa8e65",
   "metadata": {},
   "source": [
    "Stack:- It is a linear data structure.\n",
    "        \"last in first out.\""
   ]
  },
  {
   "cell_type": "markdown",
   "id": "7e6dd034",
   "metadata": {},
   "source": [
    "ZIP:- zip function itraters two list at the same time \n",
    "if one list is shorter than another then ittration will only ittrate till shorter list ends.\n"
   ]
  },
  {
   "cell_type": "code",
   "execution_count": 1,
   "id": "0b9ffee7",
   "metadata": {},
   "outputs": [
    {
     "name": "stdout",
     "output_type": "stream",
     "text": [
      "20 1\n",
      "30 2\n",
      "40 3\n",
      "50 4\n",
      "60 5\n",
      "70 6\n"
     ]
    }
   ],
   "source": [
    "#zip function\n",
    "l1=[20,30,40,50,60,70]\n",
    "l2=[1,2,3,4,5,6]\n",
    "\n",
    "for i,j in zip(l1,l2):\n",
    "    print(i,j)"
   ]
  },
  {
   "cell_type": "code",
   "execution_count": null,
   "id": "63b151a8",
   "metadata": {},
   "outputs": [],
   "source": []
  }
 ],
 "metadata": {
  "kernelspec": {
   "display_name": "Python 3 (ipykernel)",
   "language": "python",
   "name": "python3"
  },
  "language_info": {
   "codemirror_mode": {
    "name": "ipython",
    "version": 3
   },
   "file_extension": ".py",
   "mimetype": "text/x-python",
   "name": "python",
   "nbconvert_exporter": "python",
   "pygments_lexer": "ipython3",
   "version": "3.11.5"
  }
 },
 "nbformat": 4,
 "nbformat_minor": 5
}
